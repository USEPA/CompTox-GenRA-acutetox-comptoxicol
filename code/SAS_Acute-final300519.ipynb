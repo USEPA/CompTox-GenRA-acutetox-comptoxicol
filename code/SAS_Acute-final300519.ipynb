{
 "cells": [
  {
   "cell_type": "code",
   "execution_count": 1,
   "metadata": {},
   "outputs": [],
   "source": [
    "# numpy and matplotlib\n",
    "import numpy as np\n",
    "import matplotlib.pyplot as plt\n",
    "%matplotlib inline\n",
    "import matplotlib.cm as cm\n",
    "\n",
    "# scipy\n",
    "from scipy.spatial.distance import pdist, squareform\n",
    "import scipy.cluster.hierarchy as hc\n",
    "\n",
    "# seaborn -- for better looking plots\n",
    "import seaborn as sns\n",
    "\n",
    "# pandas \n",
    "import pandas as pd\n",
    "\n",
    "# rdkit\n",
    "from rdkit import Chem\n",
    "from rdkit.Chem import Draw\n",
    "from rdkit.Chem import rdmolops\n",
    "from rdkit.Chem import Descriptors\n",
    "from rdkit import DataStructs\n",
    "from rdkit.Chem import rdMolDescriptors"
   ]
  },
  {
   "cell_type": "code",
   "execution_count": 1,
   "metadata": {},
   "outputs": [
    {
     "data": {
      "text/plain": [
       "'/share/home3/gpatlewi/python/Unilever/acute'"
      ]
     },
     "execution_count": 1,
     "metadata": {},
     "output_type": "execute_result"
    }
   ],
   "source": [
    "pwd"
   ]
  },
  {
   "cell_type": "code",
   "execution_count": 2,
   "metadata": {},
   "outputs": [
    {
     "name": "stdout",
     "output_type": "stream",
     "text": [
      "acute_helman_genra.xlsx           smi_acute.xlsx\n",
      "acute_input_TB.xlsx               TB_INPUT_GUI.xlsx\n",
      "acuteprofiled_TB.xlsx             TB_OUTPUT_ALL_010419v1.xlsx\n",
      "chemstot.xlsx                     TB_OUTPUT_ALL_010419.xlsx\n",
      "first4999.xlsx                    TB_OUTPUT_API_010419.xlsx\n",
      "last4999.xlsx                     TB_OUTPUT_API.xlsx\n",
      "results.xlsx                      TB_OUTPUT_GUI_FINAL.xlsx\n",
      "second4999.xlsx                   third4999.xlsx\n",
      "small_acute_processed_wtxps.xlsx\n"
     ]
    }
   ],
   "source": [
    "ls *.xlsx"
   ]
  },
  {
   "cell_type": "code",
   "execution_count": 3,
   "metadata": {},
   "outputs": [],
   "source": [
    "xls = pd.ExcelFile('small_acute_processed_wtxps.xlsx')"
   ]
  },
  {
   "cell_type": "code",
   "execution_count": 4,
   "metadata": {},
   "outputs": [
    {
     "data": {
      "text/plain": [
       "['first_5000_txps', 'remaining_5000_txps', 'small_acute_processed']"
      ]
     },
     "execution_count": 4,
     "metadata": {},
     "output_type": "execute_result"
    }
   ],
   "source": [
    "xls.sheet_names\n"
   ]
  },
  {
   "cell_type": "code",
   "execution_count": 5,
   "metadata": {},
   "outputs": [],
   "source": [
    "acute = xls.parse('small_acute_processed')"
   ]
  },
  {
   "cell_type": "code",
   "execution_count": 6,
   "metadata": {},
   "outputs": [],
   "source": [
    "tps1 = xls.parse('first_5000_txps')"
   ]
  },
  {
   "cell_type": "code",
   "execution_count": 7,
   "metadata": {},
   "outputs": [],
   "source": [
    "tps2 = xls.parse('remaining_5000_txps')"
   ]
  },
  {
   "cell_type": "code",
   "execution_count": 8,
   "metadata": {},
   "outputs": [],
   "source": [
    "tps = pd.concat([tps1,tps2], axis = 0)"
   ]
  },
  {
   "cell_type": "code",
   "execution_count": 9,
   "metadata": {},
   "outputs": [],
   "source": [
    "tps_acute = tps[tps['atom:element_main_group'] != '-']"
   ]
  },
  {
   "cell_type": "code",
   "execution_count": 10,
   "metadata": {},
   "outputs": [
    {
     "data": {
      "text/html": [
       "<div>\n",
       "<style scoped>\n",
       "    .dataframe tbody tr th:only-of-type {\n",
       "        vertical-align: middle;\n",
       "    }\n",
       "\n",
       "    .dataframe tbody tr th {\n",
       "        vertical-align: top;\n",
       "    }\n",
       "\n",
       "    .dataframe thead th {\n",
       "        text-align: right;\n",
       "    }\n",
       "</style>\n",
       "<table border=\"1\" class=\"dataframe\">\n",
       "  <thead>\n",
       "    <tr style=\"text-align: right;\">\n",
       "      <th></th>\n",
       "      <th>INPUT</th>\n",
       "      <th>DTXSID</th>\n",
       "      <th>PREFERRED_NAME</th>\n",
       "      <th>atom:element_main_group</th>\n",
       "      <th>atom:element_metal_group_I_II</th>\n",
       "      <th>atom:element_metal_group_III</th>\n",
       "      <th>atom:element_metal_metalloid</th>\n",
       "      <th>atom:element_metal_poor_metal</th>\n",
       "      <th>atom:element_metal_transistion_metal</th>\n",
       "      <th>atom:element_noble_gas</th>\n",
       "      <th>...</th>\n",
       "      <th>ring:polycycle_bicyclo_propene</th>\n",
       "      <th>ring:polycycle_spiro_[2.2]pentane</th>\n",
       "      <th>ring:polycycle_spiro_[2.5]octane</th>\n",
       "      <th>ring:polycycle_spiro_[4.5]decane</th>\n",
       "      <th>ring:polycycle_spiro_1_4-dioxaspiro[4.5]decane</th>\n",
       "      <th>ring:polycycle_tricyclo_[3.5.5]_cyclopropa[cd]pentalene</th>\n",
       "      <th>ring:polycycle_tricyclo_[3.7.7]bullvalene</th>\n",
       "      <th>ring:polycycle_tricyclo_[3.7.7]semibullvalene</th>\n",
       "      <th>ring:polycycle_tricyclo_adamantane</th>\n",
       "      <th>ring:polycycle_tricyclo_benzvalene</th>\n",
       "    </tr>\n",
       "  </thead>\n",
       "  <tbody>\n",
       "    <tr>\n",
       "      <th>0</th>\n",
       "      <td>DTXSID5020281</td>\n",
       "      <td>DTXSID5020281</td>\n",
       "      <td>1-Chloro-4-nitrobenzene</td>\n",
       "      <td>0</td>\n",
       "      <td>0</td>\n",
       "      <td>0</td>\n",
       "      <td>0</td>\n",
       "      <td>0</td>\n",
       "      <td>0</td>\n",
       "      <td>0</td>\n",
       "      <td>...</td>\n",
       "      <td>0</td>\n",
       "      <td>0</td>\n",
       "      <td>0</td>\n",
       "      <td>0</td>\n",
       "      <td>0</td>\n",
       "      <td>0</td>\n",
       "      <td>0</td>\n",
       "      <td>0</td>\n",
       "      <td>0</td>\n",
       "      <td>0</td>\n",
       "    </tr>\n",
       "    <tr>\n",
       "      <th>1</th>\n",
       "      <td>DTXSID8020961</td>\n",
       "      <td>DTXSID8020961</td>\n",
       "      <td>4-Nitroaniline</td>\n",
       "      <td>0</td>\n",
       "      <td>0</td>\n",
       "      <td>0</td>\n",
       "      <td>0</td>\n",
       "      <td>0</td>\n",
       "      <td>0</td>\n",
       "      <td>0</td>\n",
       "      <td>...</td>\n",
       "      <td>0</td>\n",
       "      <td>0</td>\n",
       "      <td>0</td>\n",
       "      <td>0</td>\n",
       "      <td>0</td>\n",
       "      <td>0</td>\n",
       "      <td>0</td>\n",
       "      <td>0</td>\n",
       "      <td>0</td>\n",
       "      <td>0</td>\n",
       "    </tr>\n",
       "    <tr>\n",
       "      <th>2</th>\n",
       "      <td>DTXSID0021834</td>\n",
       "      <td>DTXSID0021834</td>\n",
       "      <td>4-Nitrophenol</td>\n",
       "      <td>0</td>\n",
       "      <td>0</td>\n",
       "      <td>0</td>\n",
       "      <td>0</td>\n",
       "      <td>0</td>\n",
       "      <td>0</td>\n",
       "      <td>0</td>\n",
       "      <td>...</td>\n",
       "      <td>0</td>\n",
       "      <td>0</td>\n",
       "      <td>0</td>\n",
       "      <td>0</td>\n",
       "      <td>0</td>\n",
       "      <td>0</td>\n",
       "      <td>0</td>\n",
       "      <td>0</td>\n",
       "      <td>0</td>\n",
       "      <td>0</td>\n",
       "    </tr>\n",
       "    <tr>\n",
       "      <th>3</th>\n",
       "      <td>DTXSID2044347</td>\n",
       "      <td>DTXSID2044347</td>\n",
       "      <td>4'-Methoxyacetophenone</td>\n",
       "      <td>0</td>\n",
       "      <td>0</td>\n",
       "      <td>0</td>\n",
       "      <td>0</td>\n",
       "      <td>0</td>\n",
       "      <td>0</td>\n",
       "      <td>0</td>\n",
       "      <td>...</td>\n",
       "      <td>0</td>\n",
       "      <td>0</td>\n",
       "      <td>0</td>\n",
       "      <td>0</td>\n",
       "      <td>0</td>\n",
       "      <td>0</td>\n",
       "      <td>0</td>\n",
       "      <td>0</td>\n",
       "      <td>0</td>\n",
       "      <td>0</td>\n",
       "    </tr>\n",
       "    <tr>\n",
       "      <th>4</th>\n",
       "      <td>DTXSID4025745</td>\n",
       "      <td>DTXSID4025745</td>\n",
       "      <td>4-Nitrobenzyl chloride</td>\n",
       "      <td>0</td>\n",
       "      <td>0</td>\n",
       "      <td>0</td>\n",
       "      <td>0</td>\n",
       "      <td>0</td>\n",
       "      <td>0</td>\n",
       "      <td>0</td>\n",
       "      <td>...</td>\n",
       "      <td>0</td>\n",
       "      <td>0</td>\n",
       "      <td>0</td>\n",
       "      <td>0</td>\n",
       "      <td>0</td>\n",
       "      <td>0</td>\n",
       "      <td>0</td>\n",
       "      <td>0</td>\n",
       "      <td>0</td>\n",
       "      <td>0</td>\n",
       "    </tr>\n",
       "  </tbody>\n",
       "</table>\n",
       "<p>5 rows × 732 columns</p>\n",
       "</div>"
      ],
      "text/plain": [
       "           INPUT         DTXSID           PREFERRED_NAME  \\\n",
       "0  DTXSID5020281  DTXSID5020281  1-Chloro-4-nitrobenzene   \n",
       "1  DTXSID8020961  DTXSID8020961           4-Nitroaniline   \n",
       "2  DTXSID0021834  DTXSID0021834            4-Nitrophenol   \n",
       "3  DTXSID2044347  DTXSID2044347   4'-Methoxyacetophenone   \n",
       "4  DTXSID4025745  DTXSID4025745   4-Nitrobenzyl chloride   \n",
       "\n",
       "  atom:element_main_group atom:element_metal_group_I_II  \\\n",
       "0                       0                             0   \n",
       "1                       0                             0   \n",
       "2                       0                             0   \n",
       "3                       0                             0   \n",
       "4                       0                             0   \n",
       "\n",
       "  atom:element_metal_group_III atom:element_metal_metalloid  \\\n",
       "0                            0                            0   \n",
       "1                            0                            0   \n",
       "2                            0                            0   \n",
       "3                            0                            0   \n",
       "4                            0                            0   \n",
       "\n",
       "  atom:element_metal_poor_metal atom:element_metal_transistion_metal  \\\n",
       "0                             0                                    0   \n",
       "1                             0                                    0   \n",
       "2                             0                                    0   \n",
       "3                             0                                    0   \n",
       "4                             0                                    0   \n",
       "\n",
       "  atom:element_noble_gas                ...                  \\\n",
       "0                      0                ...                   \n",
       "1                      0                ...                   \n",
       "2                      0                ...                   \n",
       "3                      0                ...                   \n",
       "4                      0                ...                   \n",
       "\n",
       "  ring:polycycle_bicyclo_propene ring:polycycle_spiro_[2.2]pentane  \\\n",
       "0                              0                                 0   \n",
       "1                              0                                 0   \n",
       "2                              0                                 0   \n",
       "3                              0                                 0   \n",
       "4                              0                                 0   \n",
       "\n",
       "  ring:polycycle_spiro_[2.5]octane ring:polycycle_spiro_[4.5]decane  \\\n",
       "0                                0                                0   \n",
       "1                                0                                0   \n",
       "2                                0                                0   \n",
       "3                                0                                0   \n",
       "4                                0                                0   \n",
       "\n",
       "  ring:polycycle_spiro_1_4-dioxaspiro[4.5]decane  \\\n",
       "0                                              0   \n",
       "1                                              0   \n",
       "2                                              0   \n",
       "3                                              0   \n",
       "4                                              0   \n",
       "\n",
       "  ring:polycycle_tricyclo_[3.5.5]_cyclopropa[cd]pentalene  \\\n",
       "0                                                  0        \n",
       "1                                                  0        \n",
       "2                                                  0        \n",
       "3                                                  0        \n",
       "4                                                  0        \n",
       "\n",
       "  ring:polycycle_tricyclo_[3.7.7]bullvalene  \\\n",
       "0                                         0   \n",
       "1                                         0   \n",
       "2                                         0   \n",
       "3                                         0   \n",
       "4                                         0   \n",
       "\n",
       "  ring:polycycle_tricyclo_[3.7.7]semibullvalene  \\\n",
       "0                                             0   \n",
       "1                                             0   \n",
       "2                                             0   \n",
       "3                                             0   \n",
       "4                                             0   \n",
       "\n",
       "  ring:polycycle_tricyclo_adamantane ring:polycycle_tricyclo_benzvalene  \n",
       "0                                  0                                  0  \n",
       "1                                  0                                  0  \n",
       "2                                  0                                  0  \n",
       "3                                  0                                  0  \n",
       "4                                  0                                  0  \n",
       "\n",
       "[5 rows x 732 columns]"
      ]
     },
     "execution_count": 10,
     "metadata": {},
     "output_type": "execute_result"
    }
   ],
   "source": [
    "tps_acute.head()"
   ]
  },
  {
   "cell_type": "code",
   "execution_count": 11,
   "metadata": {},
   "outputs": [],
   "source": [
    "tps_acute1 = tps_acute.loc[:, (tps_acute !=0).any(axis=0)]"
   ]
  },
  {
   "cell_type": "code",
   "execution_count": 12,
   "metadata": {},
   "outputs": [
    {
     "data": {
      "text/plain": [
       "(6940, 553)"
      ]
     },
     "execution_count": 12,
     "metadata": {},
     "output_type": "execute_result"
    }
   ],
   "source": [
    "tps_acute1.shape"
   ]
  },
  {
   "cell_type": "code",
   "execution_count": 13,
   "metadata": {},
   "outputs": [],
   "source": [
    "#tps_acute1[tps_acute1['bond:C#N_cyano_cyanamide'] == 1]"
   ]
  },
  {
   "cell_type": "code",
   "execution_count": 14,
   "metadata": {},
   "outputs": [
    {
     "data": {
      "text/html": [
       "<div>\n",
       "<style scoped>\n",
       "    .dataframe tbody tr th:only-of-type {\n",
       "        vertical-align: middle;\n",
       "    }\n",
       "\n",
       "    .dataframe tbody tr th {\n",
       "        vertical-align: top;\n",
       "    }\n",
       "\n",
       "    .dataframe thead th {\n",
       "        text-align: right;\n",
       "    }\n",
       "</style>\n",
       "<table border=\"1\" class=\"dataframe\">\n",
       "  <thead>\n",
       "    <tr style=\"text-align: right;\">\n",
       "      <th></th>\n",
       "      <th>DTXSID</th>\n",
       "      <th>very_toxic</th>\n",
       "      <th>nontoxic</th>\n",
       "      <th>LD50_mgkg</th>\n",
       "      <th>EPA_category</th>\n",
       "      <th>GHS_category</th>\n",
       "      <th>casrn</th>\n",
       "      <th>mol_weight</th>\n",
       "      <th>LD50_LM</th>\n",
       "    </tr>\n",
       "  </thead>\n",
       "  <tbody>\n",
       "    <tr>\n",
       "      <th>0</th>\n",
       "      <td>DTXSID5020281</td>\n",
       "      <td>False</td>\n",
       "      <td>False</td>\n",
       "      <td>460.0</td>\n",
       "      <td>2</td>\n",
       "      <td>4</td>\n",
       "      <td>100-00-5</td>\n",
       "      <td>157.550003</td>\n",
       "      <td>-0.465339</td>\n",
       "    </tr>\n",
       "    <tr>\n",
       "      <th>1</th>\n",
       "      <td>DTXSID8020961</td>\n",
       "      <td>False</td>\n",
       "      <td>False</td>\n",
       "      <td>750.0</td>\n",
       "      <td>3</td>\n",
       "      <td>4</td>\n",
       "      <td>100-01-6</td>\n",
       "      <td>138.126007</td>\n",
       "      <td>-0.734786</td>\n",
       "    </tr>\n",
       "    <tr>\n",
       "      <th>2</th>\n",
       "      <td>DTXSID0021834</td>\n",
       "      <td>False</td>\n",
       "      <td>False</td>\n",
       "      <td>170.0</td>\n",
       "      <td>2</td>\n",
       "      <td>3</td>\n",
       "      <td>100-02-7</td>\n",
       "      <td>139.110001</td>\n",
       "      <td>-0.087091</td>\n",
       "    </tr>\n",
       "    <tr>\n",
       "      <th>3</th>\n",
       "      <td>DTXSID2044347</td>\n",
       "      <td>False</td>\n",
       "      <td>False</td>\n",
       "      <td>1720.0</td>\n",
       "      <td>3</td>\n",
       "      <td>4</td>\n",
       "      <td>100-06-1</td>\n",
       "      <td>150.177002</td>\n",
       "      <td>-1.058925</td>\n",
       "    </tr>\n",
       "    <tr>\n",
       "      <th>4</th>\n",
       "      <td>DTXSID4025745</td>\n",
       "      <td>False</td>\n",
       "      <td>False</td>\n",
       "      <td>1809.0</td>\n",
       "      <td>3</td>\n",
       "      <td>4</td>\n",
       "      <td>100-14-1</td>\n",
       "      <td>171.580002</td>\n",
       "      <td>-1.022972</td>\n",
       "    </tr>\n",
       "  </tbody>\n",
       "</table>\n",
       "</div>"
      ],
      "text/plain": [
       "          DTXSID  very_toxic  nontoxic  LD50_mgkg  EPA_category  GHS_category  \\\n",
       "0  DTXSID5020281       False     False      460.0             2             4   \n",
       "1  DTXSID8020961       False     False      750.0             3             4   \n",
       "2  DTXSID0021834       False     False      170.0             2             3   \n",
       "3  DTXSID2044347       False     False     1720.0             3             4   \n",
       "4  DTXSID4025745       False     False     1809.0             3             4   \n",
       "\n",
       "      casrn  mol_weight   LD50_LM  \n",
       "0  100-00-5  157.550003 -0.465339  \n",
       "1  100-01-6  138.126007 -0.734786  \n",
       "2  100-02-7  139.110001 -0.087091  \n",
       "3  100-06-1  150.177002 -1.058925  \n",
       "4  100-14-1  171.580002 -1.022972  "
      ]
     },
     "execution_count": 14,
     "metadata": {},
     "output_type": "execute_result"
    }
   ],
   "source": [
    "acute.head()"
   ]
  },
  {
   "cell_type": "code",
   "execution_count": 15,
   "metadata": {},
   "outputs": [],
   "source": [
    "acute_tps = pd.merge(acute,tps_acute1, on = 'DTXSID')"
   ]
  },
  {
   "cell_type": "code",
   "execution_count": 16,
   "metadata": {},
   "outputs": [
    {
     "data": {
      "text/html": [
       "<div>\n",
       "<style scoped>\n",
       "    .dataframe tbody tr th:only-of-type {\n",
       "        vertical-align: middle;\n",
       "    }\n",
       "\n",
       "    .dataframe tbody tr th {\n",
       "        vertical-align: top;\n",
       "    }\n",
       "\n",
       "    .dataframe thead th {\n",
       "        text-align: right;\n",
       "    }\n",
       "</style>\n",
       "<table border=\"1\" class=\"dataframe\">\n",
       "  <thead>\n",
       "    <tr style=\"text-align: right;\">\n",
       "      <th></th>\n",
       "      <th>DTXSID</th>\n",
       "      <th>very_toxic</th>\n",
       "      <th>nontoxic</th>\n",
       "      <th>LD50_mgkg</th>\n",
       "      <th>EPA_category</th>\n",
       "      <th>GHS_category</th>\n",
       "      <th>casrn</th>\n",
       "      <th>mol_weight</th>\n",
       "      <th>LD50_LM</th>\n",
       "      <th>INPUT</th>\n",
       "      <th>...</th>\n",
       "      <th>ring:polycycle_bicyclo_[2.1.1]heptane</th>\n",
       "      <th>ring:polycycle_bicyclo_[3.2.1]octane</th>\n",
       "      <th>ring:polycycle_bicyclo_[3.2.2]nonane</th>\n",
       "      <th>ring:polycycle_bicyclo_[3.3.1]nonane</th>\n",
       "      <th>ring:polycycle_bicyclo_[3.3.2]decane</th>\n",
       "      <th>ring:polycycle_bicyclo_[4.3.1]decane</th>\n",
       "      <th>ring:polycycle_bicyclo_[4.4.1]undecane</th>\n",
       "      <th>ring:polycycle_bicyclo_[5.4.1]dodecane</th>\n",
       "      <th>ring:polycycle_spiro_[4.5]decane</th>\n",
       "      <th>ring:polycycle_tricyclo_adamantane</th>\n",
       "    </tr>\n",
       "  </thead>\n",
       "  <tbody>\n",
       "    <tr>\n",
       "      <th>0</th>\n",
       "      <td>DTXSID5020281</td>\n",
       "      <td>False</td>\n",
       "      <td>False</td>\n",
       "      <td>460.0</td>\n",
       "      <td>2</td>\n",
       "      <td>4</td>\n",
       "      <td>100-00-5</td>\n",
       "      <td>157.550003</td>\n",
       "      <td>-0.465339</td>\n",
       "      <td>DTXSID5020281</td>\n",
       "      <td>...</td>\n",
       "      <td>0</td>\n",
       "      <td>0</td>\n",
       "      <td>0</td>\n",
       "      <td>0</td>\n",
       "      <td>0</td>\n",
       "      <td>0</td>\n",
       "      <td>0</td>\n",
       "      <td>0</td>\n",
       "      <td>0</td>\n",
       "      <td>0</td>\n",
       "    </tr>\n",
       "    <tr>\n",
       "      <th>1</th>\n",
       "      <td>DTXSID8020961</td>\n",
       "      <td>False</td>\n",
       "      <td>False</td>\n",
       "      <td>750.0</td>\n",
       "      <td>3</td>\n",
       "      <td>4</td>\n",
       "      <td>100-01-6</td>\n",
       "      <td>138.126007</td>\n",
       "      <td>-0.734786</td>\n",
       "      <td>DTXSID8020961</td>\n",
       "      <td>...</td>\n",
       "      <td>0</td>\n",
       "      <td>0</td>\n",
       "      <td>0</td>\n",
       "      <td>0</td>\n",
       "      <td>0</td>\n",
       "      <td>0</td>\n",
       "      <td>0</td>\n",
       "      <td>0</td>\n",
       "      <td>0</td>\n",
       "      <td>0</td>\n",
       "    </tr>\n",
       "    <tr>\n",
       "      <th>2</th>\n",
       "      <td>DTXSID0021834</td>\n",
       "      <td>False</td>\n",
       "      <td>False</td>\n",
       "      <td>170.0</td>\n",
       "      <td>2</td>\n",
       "      <td>3</td>\n",
       "      <td>100-02-7</td>\n",
       "      <td>139.110001</td>\n",
       "      <td>-0.087091</td>\n",
       "      <td>DTXSID0021834</td>\n",
       "      <td>...</td>\n",
       "      <td>0</td>\n",
       "      <td>0</td>\n",
       "      <td>0</td>\n",
       "      <td>0</td>\n",
       "      <td>0</td>\n",
       "      <td>0</td>\n",
       "      <td>0</td>\n",
       "      <td>0</td>\n",
       "      <td>0</td>\n",
       "      <td>0</td>\n",
       "    </tr>\n",
       "    <tr>\n",
       "      <th>3</th>\n",
       "      <td>DTXSID2044347</td>\n",
       "      <td>False</td>\n",
       "      <td>False</td>\n",
       "      <td>1720.0</td>\n",
       "      <td>3</td>\n",
       "      <td>4</td>\n",
       "      <td>100-06-1</td>\n",
       "      <td>150.177002</td>\n",
       "      <td>-1.058925</td>\n",
       "      <td>DTXSID2044347</td>\n",
       "      <td>...</td>\n",
       "      <td>0</td>\n",
       "      <td>0</td>\n",
       "      <td>0</td>\n",
       "      <td>0</td>\n",
       "      <td>0</td>\n",
       "      <td>0</td>\n",
       "      <td>0</td>\n",
       "      <td>0</td>\n",
       "      <td>0</td>\n",
       "      <td>0</td>\n",
       "    </tr>\n",
       "    <tr>\n",
       "      <th>4</th>\n",
       "      <td>DTXSID4025745</td>\n",
       "      <td>False</td>\n",
       "      <td>False</td>\n",
       "      <td>1809.0</td>\n",
       "      <td>3</td>\n",
       "      <td>4</td>\n",
       "      <td>100-14-1</td>\n",
       "      <td>171.580002</td>\n",
       "      <td>-1.022972</td>\n",
       "      <td>DTXSID4025745</td>\n",
       "      <td>...</td>\n",
       "      <td>0</td>\n",
       "      <td>0</td>\n",
       "      <td>0</td>\n",
       "      <td>0</td>\n",
       "      <td>0</td>\n",
       "      <td>0</td>\n",
       "      <td>0</td>\n",
       "      <td>0</td>\n",
       "      <td>0</td>\n",
       "      <td>0</td>\n",
       "    </tr>\n",
       "  </tbody>\n",
       "</table>\n",
       "<p>5 rows × 561 columns</p>\n",
       "</div>"
      ],
      "text/plain": [
       "          DTXSID  very_toxic  nontoxic  LD50_mgkg  EPA_category  GHS_category  \\\n",
       "0  DTXSID5020281       False     False      460.0             2             4   \n",
       "1  DTXSID8020961       False     False      750.0             3             4   \n",
       "2  DTXSID0021834       False     False      170.0             2             3   \n",
       "3  DTXSID2044347       False     False     1720.0             3             4   \n",
       "4  DTXSID4025745       False     False     1809.0             3             4   \n",
       "\n",
       "      casrn  mol_weight   LD50_LM          INPUT  \\\n",
       "0  100-00-5  157.550003 -0.465339  DTXSID5020281   \n",
       "1  100-01-6  138.126007 -0.734786  DTXSID8020961   \n",
       "2  100-02-7  139.110001 -0.087091  DTXSID0021834   \n",
       "3  100-06-1  150.177002 -1.058925  DTXSID2044347   \n",
       "4  100-14-1  171.580002 -1.022972  DTXSID4025745   \n",
       "\n",
       "                 ...                 ring:polycycle_bicyclo_[2.1.1]heptane  \\\n",
       "0                ...                                                     0   \n",
       "1                ...                                                     0   \n",
       "2                ...                                                     0   \n",
       "3                ...                                                     0   \n",
       "4                ...                                                     0   \n",
       "\n",
       "  ring:polycycle_bicyclo_[3.2.1]octane ring:polycycle_bicyclo_[3.2.2]nonane  \\\n",
       "0                                    0                                    0   \n",
       "1                                    0                                    0   \n",
       "2                                    0                                    0   \n",
       "3                                    0                                    0   \n",
       "4                                    0                                    0   \n",
       "\n",
       "  ring:polycycle_bicyclo_[3.3.1]nonane ring:polycycle_bicyclo_[3.3.2]decane  \\\n",
       "0                                    0                                    0   \n",
       "1                                    0                                    0   \n",
       "2                                    0                                    0   \n",
       "3                                    0                                    0   \n",
       "4                                    0                                    0   \n",
       "\n",
       "  ring:polycycle_bicyclo_[4.3.1]decane ring:polycycle_bicyclo_[4.4.1]undecane  \\\n",
       "0                                    0                                      0   \n",
       "1                                    0                                      0   \n",
       "2                                    0                                      0   \n",
       "3                                    0                                      0   \n",
       "4                                    0                                      0   \n",
       "\n",
       "  ring:polycycle_bicyclo_[5.4.1]dodecane ring:polycycle_spiro_[4.5]decane  \\\n",
       "0                                      0                                0   \n",
       "1                                      0                                0   \n",
       "2                                      0                                0   \n",
       "3                                      0                                0   \n",
       "4                                      0                                0   \n",
       "\n",
       "  ring:polycycle_tricyclo_adamantane  \n",
       "0                                  0  \n",
       "1                                  0  \n",
       "2                                  0  \n",
       "3                                  0  \n",
       "4                                  0  \n",
       "\n",
       "[5 rows x 561 columns]"
      ]
     },
     "execution_count": 16,
     "metadata": {},
     "output_type": "execute_result"
    }
   ],
   "source": [
    "acute_tps.head()"
   ]
  },
  {
   "cell_type": "code",
   "execution_count": 17,
   "metadata": {},
   "outputs": [],
   "source": [
    "xls1 = pd.ExcelFile('smi_acute.xlsx')"
   ]
  },
  {
   "cell_type": "code",
   "execution_count": 18,
   "metadata": {},
   "outputs": [
    {
     "data": {
      "text/plain": [
       "['last', 'first']"
      ]
     },
     "execution_count": 18,
     "metadata": {},
     "output_type": "execute_result"
    }
   ],
   "source": [
    "xls1.sheet_names"
   ]
  },
  {
   "cell_type": "code",
   "execution_count": 19,
   "metadata": {},
   "outputs": [],
   "source": [
    "first = xls1.parse('first')"
   ]
  },
  {
   "cell_type": "code",
   "execution_count": 20,
   "metadata": {},
   "outputs": [],
   "source": [
    "last = xls1.parse('last')"
   ]
  },
  {
   "cell_type": "code",
   "execution_count": 21,
   "metadata": {},
   "outputs": [],
   "source": [
    "smi = pd.concat([first,last], axis = 0)"
   ]
  },
  {
   "cell_type": "code",
   "execution_count": 22,
   "metadata": {},
   "outputs": [
    {
     "data": {
      "text/html": [
       "<div>\n",
       "<style scoped>\n",
       "    .dataframe tbody tr th:only-of-type {\n",
       "        vertical-align: middle;\n",
       "    }\n",
       "\n",
       "    .dataframe tbody tr th {\n",
       "        vertical-align: top;\n",
       "    }\n",
       "\n",
       "    .dataframe thead th {\n",
       "        text-align: right;\n",
       "    }\n",
       "</style>\n",
       "<table border=\"1\" class=\"dataframe\">\n",
       "  <thead>\n",
       "    <tr style=\"text-align: right;\">\n",
       "      <th></th>\n",
       "      <th>INPUT</th>\n",
       "      <th>FOUND_BY</th>\n",
       "      <th>DTXSID</th>\n",
       "      <th>PREFERRED_NAME</th>\n",
       "      <th>SMILES</th>\n",
       "      <th>QSAR_READY_SMILES</th>\n",
       "    </tr>\n",
       "  </thead>\n",
       "  <tbody>\n",
       "    <tr>\n",
       "      <th>0</th>\n",
       "      <td>DTXSID5020281</td>\n",
       "      <td>DSSTox_Substance_Id</td>\n",
       "      <td>DTXSID5020281</td>\n",
       "      <td>1-Chloro-4-nitrobenzene</td>\n",
       "      <td>[O-][N+](=O)C1=CC=C(Cl)C=C1</td>\n",
       "      <td>[O-][N+](=O)C1=CC=C(Cl)C=C1</td>\n",
       "    </tr>\n",
       "    <tr>\n",
       "      <th>1</th>\n",
       "      <td>DTXSID8020961</td>\n",
       "      <td>DSSTox_Substance_Id</td>\n",
       "      <td>DTXSID8020961</td>\n",
       "      <td>4-Nitroaniline</td>\n",
       "      <td>NC1=CC=C(C=C1)[N+]([O-])=O</td>\n",
       "      <td>NC1=CC=C(C=C1)[N+]([O-])=O</td>\n",
       "    </tr>\n",
       "    <tr>\n",
       "      <th>2</th>\n",
       "      <td>DTXSID0021834</td>\n",
       "      <td>DSSTox_Substance_Id</td>\n",
       "      <td>DTXSID0021834</td>\n",
       "      <td>4-Nitrophenol</td>\n",
       "      <td>OC1=CC=C(C=C1)[N+]([O-])=O</td>\n",
       "      <td>OC1=CC=C(C=C1)[N+]([O-])=O</td>\n",
       "    </tr>\n",
       "    <tr>\n",
       "      <th>3</th>\n",
       "      <td>DTXSID2044347</td>\n",
       "      <td>DSSTox_Substance_Id</td>\n",
       "      <td>DTXSID2044347</td>\n",
       "      <td>4'-Methoxyacetophenone</td>\n",
       "      <td>COC1=CC=C(C=C1)C(C)=O</td>\n",
       "      <td>COC1=CC=C(C=C1)C(C)=O</td>\n",
       "    </tr>\n",
       "    <tr>\n",
       "      <th>4</th>\n",
       "      <td>DTXSID4025745</td>\n",
       "      <td>DSSTox_Substance_Id</td>\n",
       "      <td>DTXSID4025745</td>\n",
       "      <td>4-Nitrobenzyl chloride</td>\n",
       "      <td>[O-][N+](=O)C1=CC=C(CCl)C=C1</td>\n",
       "      <td>[O-][N+](=O)C1=CC=C(CCl)C=C1</td>\n",
       "    </tr>\n",
       "  </tbody>\n",
       "</table>\n",
       "</div>"
      ],
      "text/plain": [
       "           INPUT             FOUND_BY         DTXSID           PREFERRED_NAME  \\\n",
       "0  DTXSID5020281  DSSTox_Substance_Id  DTXSID5020281  1-Chloro-4-nitrobenzene   \n",
       "1  DTXSID8020961  DSSTox_Substance_Id  DTXSID8020961           4-Nitroaniline   \n",
       "2  DTXSID0021834  DSSTox_Substance_Id  DTXSID0021834            4-Nitrophenol   \n",
       "3  DTXSID2044347  DSSTox_Substance_Id  DTXSID2044347   4'-Methoxyacetophenone   \n",
       "4  DTXSID4025745  DSSTox_Substance_Id  DTXSID4025745   4-Nitrobenzyl chloride   \n",
       "\n",
       "                         SMILES             QSAR_READY_SMILES  \n",
       "0   [O-][N+](=O)C1=CC=C(Cl)C=C1   [O-][N+](=O)C1=CC=C(Cl)C=C1  \n",
       "1    NC1=CC=C(C=C1)[N+]([O-])=O    NC1=CC=C(C=C1)[N+]([O-])=O  \n",
       "2    OC1=CC=C(C=C1)[N+]([O-])=O    OC1=CC=C(C=C1)[N+]([O-])=O  \n",
       "3         COC1=CC=C(C=C1)C(C)=O         COC1=CC=C(C=C1)C(C)=O  \n",
       "4  [O-][N+](=O)C1=CC=C(CCl)C=C1  [O-][N+](=O)C1=CC=C(CCl)C=C1  "
      ]
     },
     "execution_count": 22,
     "metadata": {},
     "output_type": "execute_result"
    }
   ],
   "source": [
    "smi.head()"
   ]
  },
  {
   "cell_type": "code",
   "execution_count": 23,
   "metadata": {},
   "outputs": [],
   "source": [
    "smi1 = smi[~smi['QSAR_READY_SMILES'].isnull()]"
   ]
  },
  {
   "cell_type": "code",
   "execution_count": 24,
   "metadata": {},
   "outputs": [
    {
     "data": {
      "text/plain": [
       "(6955, 6)"
      ]
     },
     "execution_count": 24,
     "metadata": {},
     "output_type": "execute_result"
    }
   ],
   "source": [
    "smi1.shape"
   ]
  },
  {
   "cell_type": "code",
   "execution_count": 25,
   "metadata": {},
   "outputs": [],
   "source": [
    "acute_smi = pd.merge(acute_tps, smi1, on = 'DTXSID')"
   ]
  },
  {
   "cell_type": "code",
   "execution_count": 26,
   "metadata": {},
   "outputs": [
    {
     "data": {
      "text/html": [
       "<div>\n",
       "<style scoped>\n",
       "    .dataframe tbody tr th:only-of-type {\n",
       "        vertical-align: middle;\n",
       "    }\n",
       "\n",
       "    .dataframe tbody tr th {\n",
       "        vertical-align: top;\n",
       "    }\n",
       "\n",
       "    .dataframe thead th {\n",
       "        text-align: right;\n",
       "    }\n",
       "</style>\n",
       "<table border=\"1\" class=\"dataframe\">\n",
       "  <thead>\n",
       "    <tr style=\"text-align: right;\">\n",
       "      <th></th>\n",
       "      <th>DTXSID</th>\n",
       "      <th>very_toxic</th>\n",
       "      <th>nontoxic</th>\n",
       "      <th>LD50_mgkg</th>\n",
       "      <th>EPA_category</th>\n",
       "      <th>GHS_category</th>\n",
       "      <th>casrn</th>\n",
       "      <th>mol_weight</th>\n",
       "      <th>LD50_LM</th>\n",
       "      <th>INPUT_x</th>\n",
       "      <th>...</th>\n",
       "      <th>ring:polycycle_bicyclo_[4.3.1]decane</th>\n",
       "      <th>ring:polycycle_bicyclo_[4.4.1]undecane</th>\n",
       "      <th>ring:polycycle_bicyclo_[5.4.1]dodecane</th>\n",
       "      <th>ring:polycycle_spiro_[4.5]decane</th>\n",
       "      <th>ring:polycycle_tricyclo_adamantane</th>\n",
       "      <th>INPUT_y</th>\n",
       "      <th>FOUND_BY</th>\n",
       "      <th>PREFERRED_NAME_y</th>\n",
       "      <th>SMILES</th>\n",
       "      <th>QSAR_READY_SMILES</th>\n",
       "    </tr>\n",
       "  </thead>\n",
       "  <tbody>\n",
       "    <tr>\n",
       "      <th>0</th>\n",
       "      <td>DTXSID5020281</td>\n",
       "      <td>False</td>\n",
       "      <td>False</td>\n",
       "      <td>460.0</td>\n",
       "      <td>2</td>\n",
       "      <td>4</td>\n",
       "      <td>100-00-5</td>\n",
       "      <td>157.550003</td>\n",
       "      <td>-0.465339</td>\n",
       "      <td>DTXSID5020281</td>\n",
       "      <td>...</td>\n",
       "      <td>0</td>\n",
       "      <td>0</td>\n",
       "      <td>0</td>\n",
       "      <td>0</td>\n",
       "      <td>0</td>\n",
       "      <td>DTXSID5020281</td>\n",
       "      <td>DSSTox_Substance_Id</td>\n",
       "      <td>1-Chloro-4-nitrobenzene</td>\n",
       "      <td>[O-][N+](=O)C1=CC=C(Cl)C=C1</td>\n",
       "      <td>[O-][N+](=O)C1=CC=C(Cl)C=C1</td>\n",
       "    </tr>\n",
       "    <tr>\n",
       "      <th>1</th>\n",
       "      <td>DTXSID8020961</td>\n",
       "      <td>False</td>\n",
       "      <td>False</td>\n",
       "      <td>750.0</td>\n",
       "      <td>3</td>\n",
       "      <td>4</td>\n",
       "      <td>100-01-6</td>\n",
       "      <td>138.126007</td>\n",
       "      <td>-0.734786</td>\n",
       "      <td>DTXSID8020961</td>\n",
       "      <td>...</td>\n",
       "      <td>0</td>\n",
       "      <td>0</td>\n",
       "      <td>0</td>\n",
       "      <td>0</td>\n",
       "      <td>0</td>\n",
       "      <td>DTXSID8020961</td>\n",
       "      <td>DSSTox_Substance_Id</td>\n",
       "      <td>4-Nitroaniline</td>\n",
       "      <td>NC1=CC=C(C=C1)[N+]([O-])=O</td>\n",
       "      <td>NC1=CC=C(C=C1)[N+]([O-])=O</td>\n",
       "    </tr>\n",
       "    <tr>\n",
       "      <th>2</th>\n",
       "      <td>DTXSID0021834</td>\n",
       "      <td>False</td>\n",
       "      <td>False</td>\n",
       "      <td>170.0</td>\n",
       "      <td>2</td>\n",
       "      <td>3</td>\n",
       "      <td>100-02-7</td>\n",
       "      <td>139.110001</td>\n",
       "      <td>-0.087091</td>\n",
       "      <td>DTXSID0021834</td>\n",
       "      <td>...</td>\n",
       "      <td>0</td>\n",
       "      <td>0</td>\n",
       "      <td>0</td>\n",
       "      <td>0</td>\n",
       "      <td>0</td>\n",
       "      <td>DTXSID0021834</td>\n",
       "      <td>DSSTox_Substance_Id</td>\n",
       "      <td>4-Nitrophenol</td>\n",
       "      <td>OC1=CC=C(C=C1)[N+]([O-])=O</td>\n",
       "      <td>OC1=CC=C(C=C1)[N+]([O-])=O</td>\n",
       "    </tr>\n",
       "    <tr>\n",
       "      <th>3</th>\n",
       "      <td>DTXSID2044347</td>\n",
       "      <td>False</td>\n",
       "      <td>False</td>\n",
       "      <td>1720.0</td>\n",
       "      <td>3</td>\n",
       "      <td>4</td>\n",
       "      <td>100-06-1</td>\n",
       "      <td>150.177002</td>\n",
       "      <td>-1.058925</td>\n",
       "      <td>DTXSID2044347</td>\n",
       "      <td>...</td>\n",
       "      <td>0</td>\n",
       "      <td>0</td>\n",
       "      <td>0</td>\n",
       "      <td>0</td>\n",
       "      <td>0</td>\n",
       "      <td>DTXSID2044347</td>\n",
       "      <td>DSSTox_Substance_Id</td>\n",
       "      <td>4'-Methoxyacetophenone</td>\n",
       "      <td>COC1=CC=C(C=C1)C(C)=O</td>\n",
       "      <td>COC1=CC=C(C=C1)C(C)=O</td>\n",
       "    </tr>\n",
       "    <tr>\n",
       "      <th>4</th>\n",
       "      <td>DTXSID4025745</td>\n",
       "      <td>False</td>\n",
       "      <td>False</td>\n",
       "      <td>1809.0</td>\n",
       "      <td>3</td>\n",
       "      <td>4</td>\n",
       "      <td>100-14-1</td>\n",
       "      <td>171.580002</td>\n",
       "      <td>-1.022972</td>\n",
       "      <td>DTXSID4025745</td>\n",
       "      <td>...</td>\n",
       "      <td>0</td>\n",
       "      <td>0</td>\n",
       "      <td>0</td>\n",
       "      <td>0</td>\n",
       "      <td>0</td>\n",
       "      <td>DTXSID4025745</td>\n",
       "      <td>DSSTox_Substance_Id</td>\n",
       "      <td>4-Nitrobenzyl chloride</td>\n",
       "      <td>[O-][N+](=O)C1=CC=C(CCl)C=C1</td>\n",
       "      <td>[O-][N+](=O)C1=CC=C(CCl)C=C1</td>\n",
       "    </tr>\n",
       "  </tbody>\n",
       "</table>\n",
       "<p>5 rows × 566 columns</p>\n",
       "</div>"
      ],
      "text/plain": [
       "          DTXSID  very_toxic  nontoxic  LD50_mgkg  EPA_category  GHS_category  \\\n",
       "0  DTXSID5020281       False     False      460.0             2             4   \n",
       "1  DTXSID8020961       False     False      750.0             3             4   \n",
       "2  DTXSID0021834       False     False      170.0             2             3   \n",
       "3  DTXSID2044347       False     False     1720.0             3             4   \n",
       "4  DTXSID4025745       False     False     1809.0             3             4   \n",
       "\n",
       "      casrn  mol_weight   LD50_LM        INPUT_x  \\\n",
       "0  100-00-5  157.550003 -0.465339  DTXSID5020281   \n",
       "1  100-01-6  138.126007 -0.734786  DTXSID8020961   \n",
       "2  100-02-7  139.110001 -0.087091  DTXSID0021834   \n",
       "3  100-06-1  150.177002 -1.058925  DTXSID2044347   \n",
       "4  100-14-1  171.580002 -1.022972  DTXSID4025745   \n",
       "\n",
       "               ...              ring:polycycle_bicyclo_[4.3.1]decane  \\\n",
       "0              ...                                                 0   \n",
       "1              ...                                                 0   \n",
       "2              ...                                                 0   \n",
       "3              ...                                                 0   \n",
       "4              ...                                                 0   \n",
       "\n",
       "  ring:polycycle_bicyclo_[4.4.1]undecane  \\\n",
       "0                                      0   \n",
       "1                                      0   \n",
       "2                                      0   \n",
       "3                                      0   \n",
       "4                                      0   \n",
       "\n",
       "  ring:polycycle_bicyclo_[5.4.1]dodecane ring:polycycle_spiro_[4.5]decane  \\\n",
       "0                                      0                                0   \n",
       "1                                      0                                0   \n",
       "2                                      0                                0   \n",
       "3                                      0                                0   \n",
       "4                                      0                                0   \n",
       "\n",
       "  ring:polycycle_tricyclo_adamantane        INPUT_y             FOUND_BY  \\\n",
       "0                                  0  DTXSID5020281  DSSTox_Substance_Id   \n",
       "1                                  0  DTXSID8020961  DSSTox_Substance_Id   \n",
       "2                                  0  DTXSID0021834  DSSTox_Substance_Id   \n",
       "3                                  0  DTXSID2044347  DSSTox_Substance_Id   \n",
       "4                                  0  DTXSID4025745  DSSTox_Substance_Id   \n",
       "\n",
       "          PREFERRED_NAME_y                        SMILES  \\\n",
       "0  1-Chloro-4-nitrobenzene   [O-][N+](=O)C1=CC=C(Cl)C=C1   \n",
       "1           4-Nitroaniline    NC1=CC=C(C=C1)[N+]([O-])=O   \n",
       "2            4-Nitrophenol    OC1=CC=C(C=C1)[N+]([O-])=O   \n",
       "3   4'-Methoxyacetophenone         COC1=CC=C(C=C1)C(C)=O   \n",
       "4   4-Nitrobenzyl chloride  [O-][N+](=O)C1=CC=C(CCl)C=C1   \n",
       "\n",
       "              QSAR_READY_SMILES  \n",
       "0   [O-][N+](=O)C1=CC=C(Cl)C=C1  \n",
       "1    NC1=CC=C(C=C1)[N+]([O-])=O  \n",
       "2    OC1=CC=C(C=C1)[N+]([O-])=O  \n",
       "3         COC1=CC=C(C=C1)C(C)=O  \n",
       "4  [O-][N+](=O)C1=CC=C(CCl)C=C1  \n",
       "\n",
       "[5 rows x 566 columns]"
      ]
     },
     "execution_count": 26,
     "metadata": {},
     "output_type": "execute_result"
    }
   ],
   "source": [
    "acute_smi.head()"
   ]
  },
  {
   "cell_type": "code",
   "execution_count": 27,
   "metadata": {},
   "outputs": [],
   "source": [
    "from rdkit.Chem import MACCSkeys"
   ]
  },
  {
   "cell_type": "code",
   "execution_count": 28,
   "metadata": {},
   "outputs": [],
   "source": [
    "df_dict = { k:v for (k,v) in zip(acute_smi['DTXSID'], acute_smi['QSAR_READY_SMILES'])}"
   ]
  },
  {
   "cell_type": "code",
   "execution_count": 29,
   "metadata": {},
   "outputs": [],
   "source": [
    "df_smi = {k:Chem.MolFromSmiles(v) for k,v in df_dict.items()}"
   ]
  },
  {
   "cell_type": "code",
   "execution_count": 30,
   "metadata": {},
   "outputs": [],
   "source": [
    "fpmrg = np.vstack(np.asarray(MACCSkeys.GenMACCSKeys(e)) for e in df_smi.values())"
   ]
  },
  {
   "cell_type": "code",
   "execution_count": 31,
   "metadata": {},
   "outputs": [
    {
     "data": {
      "text/html": [
       "<div>\n",
       "<style scoped>\n",
       "    .dataframe tbody tr th:only-of-type {\n",
       "        vertical-align: middle;\n",
       "    }\n",
       "\n",
       "    .dataframe tbody tr th {\n",
       "        vertical-align: top;\n",
       "    }\n",
       "\n",
       "    .dataframe thead th {\n",
       "        text-align: right;\n",
       "    }\n",
       "</style>\n",
       "<table border=\"1\" class=\"dataframe\">\n",
       "  <thead>\n",
       "    <tr style=\"text-align: right;\">\n",
       "      <th></th>\n",
       "      <th>DTXSID</th>\n",
       "      <th>very_toxic</th>\n",
       "      <th>nontoxic</th>\n",
       "      <th>LD50_mgkg</th>\n",
       "      <th>EPA_category</th>\n",
       "      <th>GHS_category</th>\n",
       "      <th>casrn</th>\n",
       "      <th>mol_weight</th>\n",
       "      <th>LD50_LM</th>\n",
       "      <th>INPUT</th>\n",
       "      <th>...</th>\n",
       "      <th>ring:polycycle_bicyclo_[2.1.1]heptane</th>\n",
       "      <th>ring:polycycle_bicyclo_[3.2.1]octane</th>\n",
       "      <th>ring:polycycle_bicyclo_[3.2.2]nonane</th>\n",
       "      <th>ring:polycycle_bicyclo_[3.3.1]nonane</th>\n",
       "      <th>ring:polycycle_bicyclo_[3.3.2]decane</th>\n",
       "      <th>ring:polycycle_bicyclo_[4.3.1]decane</th>\n",
       "      <th>ring:polycycle_bicyclo_[4.4.1]undecane</th>\n",
       "      <th>ring:polycycle_bicyclo_[5.4.1]dodecane</th>\n",
       "      <th>ring:polycycle_spiro_[4.5]decane</th>\n",
       "      <th>ring:polycycle_tricyclo_adamantane</th>\n",
       "    </tr>\n",
       "  </thead>\n",
       "  <tbody>\n",
       "    <tr>\n",
       "      <th>0</th>\n",
       "      <td>DTXSID5020281</td>\n",
       "      <td>False</td>\n",
       "      <td>False</td>\n",
       "      <td>460.0</td>\n",
       "      <td>2</td>\n",
       "      <td>4</td>\n",
       "      <td>100-00-5</td>\n",
       "      <td>157.550003</td>\n",
       "      <td>-0.465339</td>\n",
       "      <td>DTXSID5020281</td>\n",
       "      <td>...</td>\n",
       "      <td>0</td>\n",
       "      <td>0</td>\n",
       "      <td>0</td>\n",
       "      <td>0</td>\n",
       "      <td>0</td>\n",
       "      <td>0</td>\n",
       "      <td>0</td>\n",
       "      <td>0</td>\n",
       "      <td>0</td>\n",
       "      <td>0</td>\n",
       "    </tr>\n",
       "    <tr>\n",
       "      <th>1</th>\n",
       "      <td>DTXSID8020961</td>\n",
       "      <td>False</td>\n",
       "      <td>False</td>\n",
       "      <td>750.0</td>\n",
       "      <td>3</td>\n",
       "      <td>4</td>\n",
       "      <td>100-01-6</td>\n",
       "      <td>138.126007</td>\n",
       "      <td>-0.734786</td>\n",
       "      <td>DTXSID8020961</td>\n",
       "      <td>...</td>\n",
       "      <td>0</td>\n",
       "      <td>0</td>\n",
       "      <td>0</td>\n",
       "      <td>0</td>\n",
       "      <td>0</td>\n",
       "      <td>0</td>\n",
       "      <td>0</td>\n",
       "      <td>0</td>\n",
       "      <td>0</td>\n",
       "      <td>0</td>\n",
       "    </tr>\n",
       "    <tr>\n",
       "      <th>2</th>\n",
       "      <td>DTXSID0021834</td>\n",
       "      <td>False</td>\n",
       "      <td>False</td>\n",
       "      <td>170.0</td>\n",
       "      <td>2</td>\n",
       "      <td>3</td>\n",
       "      <td>100-02-7</td>\n",
       "      <td>139.110001</td>\n",
       "      <td>-0.087091</td>\n",
       "      <td>DTXSID0021834</td>\n",
       "      <td>...</td>\n",
       "      <td>0</td>\n",
       "      <td>0</td>\n",
       "      <td>0</td>\n",
       "      <td>0</td>\n",
       "      <td>0</td>\n",
       "      <td>0</td>\n",
       "      <td>0</td>\n",
       "      <td>0</td>\n",
       "      <td>0</td>\n",
       "      <td>0</td>\n",
       "    </tr>\n",
       "    <tr>\n",
       "      <th>3</th>\n",
       "      <td>DTXSID2044347</td>\n",
       "      <td>False</td>\n",
       "      <td>False</td>\n",
       "      <td>1720.0</td>\n",
       "      <td>3</td>\n",
       "      <td>4</td>\n",
       "      <td>100-06-1</td>\n",
       "      <td>150.177002</td>\n",
       "      <td>-1.058925</td>\n",
       "      <td>DTXSID2044347</td>\n",
       "      <td>...</td>\n",
       "      <td>0</td>\n",
       "      <td>0</td>\n",
       "      <td>0</td>\n",
       "      <td>0</td>\n",
       "      <td>0</td>\n",
       "      <td>0</td>\n",
       "      <td>0</td>\n",
       "      <td>0</td>\n",
       "      <td>0</td>\n",
       "      <td>0</td>\n",
       "    </tr>\n",
       "    <tr>\n",
       "      <th>4</th>\n",
       "      <td>DTXSID4025745</td>\n",
       "      <td>False</td>\n",
       "      <td>False</td>\n",
       "      <td>1809.0</td>\n",
       "      <td>3</td>\n",
       "      <td>4</td>\n",
       "      <td>100-14-1</td>\n",
       "      <td>171.580002</td>\n",
       "      <td>-1.022972</td>\n",
       "      <td>DTXSID4025745</td>\n",
       "      <td>...</td>\n",
       "      <td>0</td>\n",
       "      <td>0</td>\n",
       "      <td>0</td>\n",
       "      <td>0</td>\n",
       "      <td>0</td>\n",
       "      <td>0</td>\n",
       "      <td>0</td>\n",
       "      <td>0</td>\n",
       "      <td>0</td>\n",
       "      <td>0</td>\n",
       "    </tr>\n",
       "  </tbody>\n",
       "</table>\n",
       "<p>5 rows × 561 columns</p>\n",
       "</div>"
      ],
      "text/plain": [
       "          DTXSID  very_toxic  nontoxic  LD50_mgkg  EPA_category  GHS_category  \\\n",
       "0  DTXSID5020281       False     False      460.0             2             4   \n",
       "1  DTXSID8020961       False     False      750.0             3             4   \n",
       "2  DTXSID0021834       False     False      170.0             2             3   \n",
       "3  DTXSID2044347       False     False     1720.0             3             4   \n",
       "4  DTXSID4025745       False     False     1809.0             3             4   \n",
       "\n",
       "      casrn  mol_weight   LD50_LM          INPUT  \\\n",
       "0  100-00-5  157.550003 -0.465339  DTXSID5020281   \n",
       "1  100-01-6  138.126007 -0.734786  DTXSID8020961   \n",
       "2  100-02-7  139.110001 -0.087091  DTXSID0021834   \n",
       "3  100-06-1  150.177002 -1.058925  DTXSID2044347   \n",
       "4  100-14-1  171.580002 -1.022972  DTXSID4025745   \n",
       "\n",
       "                 ...                 ring:polycycle_bicyclo_[2.1.1]heptane  \\\n",
       "0                ...                                                     0   \n",
       "1                ...                                                     0   \n",
       "2                ...                                                     0   \n",
       "3                ...                                                     0   \n",
       "4                ...                                                     0   \n",
       "\n",
       "  ring:polycycle_bicyclo_[3.2.1]octane ring:polycycle_bicyclo_[3.2.2]nonane  \\\n",
       "0                                    0                                    0   \n",
       "1                                    0                                    0   \n",
       "2                                    0                                    0   \n",
       "3                                    0                                    0   \n",
       "4                                    0                                    0   \n",
       "\n",
       "  ring:polycycle_bicyclo_[3.3.1]nonane ring:polycycle_bicyclo_[3.3.2]decane  \\\n",
       "0                                    0                                    0   \n",
       "1                                    0                                    0   \n",
       "2                                    0                                    0   \n",
       "3                                    0                                    0   \n",
       "4                                    0                                    0   \n",
       "\n",
       "  ring:polycycle_bicyclo_[4.3.1]decane ring:polycycle_bicyclo_[4.4.1]undecane  \\\n",
       "0                                    0                                      0   \n",
       "1                                    0                                      0   \n",
       "2                                    0                                      0   \n",
       "3                                    0                                      0   \n",
       "4                                    0                                      0   \n",
       "\n",
       "  ring:polycycle_bicyclo_[5.4.1]dodecane ring:polycycle_spiro_[4.5]decane  \\\n",
       "0                                      0                                0   \n",
       "1                                      0                                0   \n",
       "2                                      0                                0   \n",
       "3                                      0                                0   \n",
       "4                                      0                                0   \n",
       "\n",
       "  ring:polycycle_tricyclo_adamantane  \n",
       "0                                  0  \n",
       "1                                  0  \n",
       "2                                  0  \n",
       "3                                  0  \n",
       "4                                  0  \n",
       "\n",
       "[5 rows x 561 columns]"
      ]
     },
     "execution_count": 31,
     "metadata": {},
     "output_type": "execute_result"
    }
   ],
   "source": [
    "acute_tps.head()"
   ]
  },
  {
   "cell_type": "code",
   "execution_count": 32,
   "metadata": {},
   "outputs": [
    {
     "data": {
      "text/plain": [
       "11"
      ]
     },
     "execution_count": 32,
     "metadata": {},
     "output_type": "execute_result"
    }
   ],
   "source": [
    "acute_tps.columns.get_loc('atom:element_main_group')"
   ]
  },
  {
   "cell_type": "code",
   "execution_count": 33,
   "metadata": {},
   "outputs": [],
   "source": [
    "acute_tps1 = acute_tps.iloc[:,11:]"
   ]
  },
  {
   "cell_type": "code",
   "execution_count": 61,
   "metadata": {},
   "outputs": [
    {
     "data": {
      "text/html": [
       "<div>\n",
       "<style scoped>\n",
       "    .dataframe tbody tr th:only-of-type {\n",
       "        vertical-align: middle;\n",
       "    }\n",
       "\n",
       "    .dataframe tbody tr th {\n",
       "        vertical-align: top;\n",
       "    }\n",
       "\n",
       "    .dataframe thead th {\n",
       "        text-align: right;\n",
       "    }\n",
       "</style>\n",
       "<table border=\"1\" class=\"dataframe\">\n",
       "  <thead>\n",
       "    <tr style=\"text-align: right;\">\n",
       "      <th></th>\n",
       "      <th>atom:element_main_group</th>\n",
       "      <th>atom:element_metal_group_I_II</th>\n",
       "      <th>atom:element_metal_metalloid</th>\n",
       "      <th>atom:element_metal_poor_metal</th>\n",
       "      <th>atom:element_metal_transistion_metal</th>\n",
       "      <th>bond:C#N_cyano_acylcyanide</th>\n",
       "      <th>bond:C#N_cyano_cyanamide</th>\n",
       "      <th>bond:C#N_cyano_cyanohydrin</th>\n",
       "      <th>bond:C#N_nitrile_ab-acetylenic</th>\n",
       "      <th>bond:C#N_nitrile_ab-unsaturated</th>\n",
       "      <th>...</th>\n",
       "      <th>ring:polycycle_bicyclo_[2.1.1]heptane</th>\n",
       "      <th>ring:polycycle_bicyclo_[3.2.1]octane</th>\n",
       "      <th>ring:polycycle_bicyclo_[3.2.2]nonane</th>\n",
       "      <th>ring:polycycle_bicyclo_[3.3.1]nonane</th>\n",
       "      <th>ring:polycycle_bicyclo_[3.3.2]decane</th>\n",
       "      <th>ring:polycycle_bicyclo_[4.3.1]decane</th>\n",
       "      <th>ring:polycycle_bicyclo_[4.4.1]undecane</th>\n",
       "      <th>ring:polycycle_bicyclo_[5.4.1]dodecane</th>\n",
       "      <th>ring:polycycle_spiro_[4.5]decane</th>\n",
       "      <th>ring:polycycle_tricyclo_adamantane</th>\n",
       "    </tr>\n",
       "  </thead>\n",
       "  <tbody>\n",
       "    <tr>\n",
       "      <th>0</th>\n",
       "      <td>0</td>\n",
       "      <td>0</td>\n",
       "      <td>0</td>\n",
       "      <td>0</td>\n",
       "      <td>0</td>\n",
       "      <td>0</td>\n",
       "      <td>0</td>\n",
       "      <td>0</td>\n",
       "      <td>0</td>\n",
       "      <td>0</td>\n",
       "      <td>...</td>\n",
       "      <td>0</td>\n",
       "      <td>0</td>\n",
       "      <td>0</td>\n",
       "      <td>0</td>\n",
       "      <td>0</td>\n",
       "      <td>0</td>\n",
       "      <td>0</td>\n",
       "      <td>0</td>\n",
       "      <td>0</td>\n",
       "      <td>0</td>\n",
       "    </tr>\n",
       "    <tr>\n",
       "      <th>1</th>\n",
       "      <td>0</td>\n",
       "      <td>0</td>\n",
       "      <td>0</td>\n",
       "      <td>0</td>\n",
       "      <td>0</td>\n",
       "      <td>0</td>\n",
       "      <td>0</td>\n",
       "      <td>0</td>\n",
       "      <td>0</td>\n",
       "      <td>0</td>\n",
       "      <td>...</td>\n",
       "      <td>0</td>\n",
       "      <td>0</td>\n",
       "      <td>0</td>\n",
       "      <td>0</td>\n",
       "      <td>0</td>\n",
       "      <td>0</td>\n",
       "      <td>0</td>\n",
       "      <td>0</td>\n",
       "      <td>0</td>\n",
       "      <td>0</td>\n",
       "    </tr>\n",
       "    <tr>\n",
       "      <th>2</th>\n",
       "      <td>0</td>\n",
       "      <td>0</td>\n",
       "      <td>0</td>\n",
       "      <td>0</td>\n",
       "      <td>0</td>\n",
       "      <td>0</td>\n",
       "      <td>0</td>\n",
       "      <td>0</td>\n",
       "      <td>0</td>\n",
       "      <td>0</td>\n",
       "      <td>...</td>\n",
       "      <td>0</td>\n",
       "      <td>0</td>\n",
       "      <td>0</td>\n",
       "      <td>0</td>\n",
       "      <td>0</td>\n",
       "      <td>0</td>\n",
       "      <td>0</td>\n",
       "      <td>0</td>\n",
       "      <td>0</td>\n",
       "      <td>0</td>\n",
       "    </tr>\n",
       "    <tr>\n",
       "      <th>3</th>\n",
       "      <td>0</td>\n",
       "      <td>0</td>\n",
       "      <td>0</td>\n",
       "      <td>0</td>\n",
       "      <td>0</td>\n",
       "      <td>0</td>\n",
       "      <td>0</td>\n",
       "      <td>0</td>\n",
       "      <td>0</td>\n",
       "      <td>0</td>\n",
       "      <td>...</td>\n",
       "      <td>0</td>\n",
       "      <td>0</td>\n",
       "      <td>0</td>\n",
       "      <td>0</td>\n",
       "      <td>0</td>\n",
       "      <td>0</td>\n",
       "      <td>0</td>\n",
       "      <td>0</td>\n",
       "      <td>0</td>\n",
       "      <td>0</td>\n",
       "    </tr>\n",
       "    <tr>\n",
       "      <th>4</th>\n",
       "      <td>0</td>\n",
       "      <td>0</td>\n",
       "      <td>0</td>\n",
       "      <td>0</td>\n",
       "      <td>0</td>\n",
       "      <td>0</td>\n",
       "      <td>0</td>\n",
       "      <td>0</td>\n",
       "      <td>0</td>\n",
       "      <td>0</td>\n",
       "      <td>...</td>\n",
       "      <td>0</td>\n",
       "      <td>0</td>\n",
       "      <td>0</td>\n",
       "      <td>0</td>\n",
       "      <td>0</td>\n",
       "      <td>0</td>\n",
       "      <td>0</td>\n",
       "      <td>0</td>\n",
       "      <td>0</td>\n",
       "      <td>0</td>\n",
       "    </tr>\n",
       "  </tbody>\n",
       "</table>\n",
       "<p>5 rows × 550 columns</p>\n",
       "</div>"
      ],
      "text/plain": [
       "  atom:element_main_group atom:element_metal_group_I_II  \\\n",
       "0                       0                             0   \n",
       "1                       0                             0   \n",
       "2                       0                             0   \n",
       "3                       0                             0   \n",
       "4                       0                             0   \n",
       "\n",
       "  atom:element_metal_metalloid atom:element_metal_poor_metal  \\\n",
       "0                            0                             0   \n",
       "1                            0                             0   \n",
       "2                            0                             0   \n",
       "3                            0                             0   \n",
       "4                            0                             0   \n",
       "\n",
       "  atom:element_metal_transistion_metal bond:C#N_cyano_acylcyanide  \\\n",
       "0                                    0                          0   \n",
       "1                                    0                          0   \n",
       "2                                    0                          0   \n",
       "3                                    0                          0   \n",
       "4                                    0                          0   \n",
       "\n",
       "  bond:C#N_cyano_cyanamide bond:C#N_cyano_cyanohydrin  \\\n",
       "0                        0                          0   \n",
       "1                        0                          0   \n",
       "2                        0                          0   \n",
       "3                        0                          0   \n",
       "4                        0                          0   \n",
       "\n",
       "  bond:C#N_nitrile_ab-acetylenic bond:C#N_nitrile_ab-unsaturated  \\\n",
       "0                              0                               0   \n",
       "1                              0                               0   \n",
       "2                              0                               0   \n",
       "3                              0                               0   \n",
       "4                              0                               0   \n",
       "\n",
       "                 ...                 ring:polycycle_bicyclo_[2.1.1]heptane  \\\n",
       "0                ...                                                     0   \n",
       "1                ...                                                     0   \n",
       "2                ...                                                     0   \n",
       "3                ...                                                     0   \n",
       "4                ...                                                     0   \n",
       "\n",
       "  ring:polycycle_bicyclo_[3.2.1]octane ring:polycycle_bicyclo_[3.2.2]nonane  \\\n",
       "0                                    0                                    0   \n",
       "1                                    0                                    0   \n",
       "2                                    0                                    0   \n",
       "3                                    0                                    0   \n",
       "4                                    0                                    0   \n",
       "\n",
       "  ring:polycycle_bicyclo_[3.3.1]nonane ring:polycycle_bicyclo_[3.3.2]decane  \\\n",
       "0                                    0                                    0   \n",
       "1                                    0                                    0   \n",
       "2                                    0                                    0   \n",
       "3                                    0                                    0   \n",
       "4                                    0                                    0   \n",
       "\n",
       "  ring:polycycle_bicyclo_[4.3.1]decane ring:polycycle_bicyclo_[4.4.1]undecane  \\\n",
       "0                                    0                                      0   \n",
       "1                                    0                                      0   \n",
       "2                                    0                                      0   \n",
       "3                                    0                                      0   \n",
       "4                                    0                                      0   \n",
       "\n",
       "  ring:polycycle_bicyclo_[5.4.1]dodecane ring:polycycle_spiro_[4.5]decane  \\\n",
       "0                                      0                                0   \n",
       "1                                      0                                0   \n",
       "2                                      0                                0   \n",
       "3                                      0                                0   \n",
       "4                                      0                                0   \n",
       "\n",
       "  ring:polycycle_tricyclo_adamantane  \n",
       "0                                  0  \n",
       "1                                  0  \n",
       "2                                  0  \n",
       "3                                  0  \n",
       "4                                  0  \n",
       "\n",
       "[5 rows x 550 columns]"
      ]
     },
     "execution_count": 61,
     "metadata": {},
     "output_type": "execute_result"
    }
   ],
   "source": [
    "acute_tps1.head()"
   ]
  },
  {
   "cell_type": "code",
   "execution_count": 34,
   "metadata": {},
   "outputs": [
    {
     "data": {
      "text/plain": [
       "(6940, 550)"
      ]
     },
     "execution_count": 34,
     "metadata": {},
     "output_type": "execute_result"
    }
   ],
   "source": [
    "acute_tps1.shape"
   ]
  },
  {
   "cell_type": "code",
   "execution_count": 35,
   "metadata": {},
   "outputs": [],
   "source": [
    "fps = np.vstack(np.asarray(acute_tps1))"
   ]
  },
  {
   "cell_type": "code",
   "execution_count": 60,
   "metadata": {},
   "outputs": [
    {
     "data": {
      "text/plain": [
       "array([[0, 0, 0, ..., 0, 0, 0],\n",
       "       [0, 0, 0, ..., 0, 0, 0],\n",
       "       [0, 0, 0, ..., 0, 0, 0],\n",
       "       ...,\n",
       "       [0, 0, 0, ..., 0, 0, 0],\n",
       "       [0, 0, 0, ..., 0, 0, 0],\n",
       "       [0, 0, 1, ..., 0, 0, 0]], dtype=object)"
      ]
     },
     "execution_count": 60,
     "metadata": {},
     "output_type": "execute_result"
    }
   ],
   "source": [
    "fps\n"
   ]
  },
  {
   "cell_type": "code",
   "execution_count": 36,
   "metadata": {},
   "outputs": [],
   "source": [
    "from scipy.spatial.distance import jaccard, pdist, squareform, cdist"
   ]
  },
  {
   "cell_type": "code",
   "execution_count": 37,
   "metadata": {},
   "outputs": [],
   "source": [
    "sim = pdist(fps, 'jaccard')"
   ]
  },
  {
   "cell_type": "code",
   "execution_count": 76,
   "metadata": {},
   "outputs": [
    {
     "data": {
      "text/plain": [
       "array([0.625     , 0.625     , 0.91666667, ..., 1.        , 1.        ,\n",
       "       1.        ])"
      ]
     },
     "execution_count": 76,
     "metadata": {},
     "output_type": "execute_result"
    }
   ],
   "source": [
    "sim"
   ]
  },
  {
   "cell_type": "code",
   "execution_count": 70,
   "metadata": {},
   "outputs": [],
   "source": [
    "#from math import*\n",
    "#def jaccard_similarity(x,y):\n",
    "#    intersection_cardinality = len(set.intersection(*[set(x), set(y)]))\n",
    "#   union_cardinality = len(set.union(*[set(x), set(y)]))\n",
    "#    return intersection_cardinality/float(union_cardinality)"
   ]
  },
  {
   "cell_type": "code",
   "execution_count": 39,
   "metadata": {},
   "outputs": [],
   "source": [
    "simmgrn = pdist(fpmrg, 'jaccard')"
   ]
  },
  {
   "cell_type": "code",
   "execution_count": 77,
   "metadata": {},
   "outputs": [
    {
     "data": {
      "text/plain": [
       "array([0.23333333, 0.32352941, 0.86486486, ..., 0.9       , 0.97222222,\n",
       "       0.6969697 ])"
      ]
     },
     "execution_count": 77,
     "metadata": {},
     "output_type": "execute_result"
    }
   ],
   "source": [
    "simmgrn"
   ]
  },
  {
   "cell_type": "code",
   "execution_count": 78,
   "metadata": {},
   "outputs": [],
   "source": [
    "new_dic = { k:v for (k,v) in zip(acute_tps['DTXSID'], acute_tps['LD50_LM'])}"
   ]
  },
  {
   "cell_type": "code",
   "execution_count": 79,
   "metadata": {},
   "outputs": [],
   "source": [
    "pLD50 = np.vstack(np.asarray(e) for e in new_dic.values())"
   ]
  },
  {
   "cell_type": "code",
   "execution_count": 80,
   "metadata": {},
   "outputs": [],
   "source": [
    "new_dic1 = { k:v for (k,v) in zip(acute_tps['DTXSID'], acute_tps['LD50_mgkg'])}"
   ]
  },
  {
   "cell_type": "code",
   "execution_count": 81,
   "metadata": {},
   "outputs": [],
   "source": [
    "LD50s = np.vstack(np.asarray(e) for e in new_dic1.values())"
   ]
  },
  {
   "cell_type": "code",
   "execution_count": 82,
   "metadata": {},
   "outputs": [],
   "source": [
    "new_dic2 = { k:v for (k,v) in zip(acute_smi['DTXSID'], acute_smi['LD50_LM'])}"
   ]
  },
  {
   "cell_type": "code",
   "execution_count": 83,
   "metadata": {},
   "outputs": [],
   "source": [
    "pLD50_v1 = np.vstack(np.asarray(e) for e in new_dic2.values())"
   ]
  },
  {
   "cell_type": "code",
   "execution_count": 84,
   "metadata": {},
   "outputs": [],
   "source": [
    "def act_diff(v1,v2):\n",
    "    return np.abs(v1-v2)"
   ]
  },
  {
   "cell_type": "code",
   "execution_count": 85,
   "metadata": {},
   "outputs": [],
   "source": [
    "acts = pdist(pLD50, act_diff)"
   ]
  },
  {
   "cell_type": "code",
   "execution_count": 100,
   "metadata": {},
   "outputs": [
    {
     "data": {
      "text/plain": [
       "array([0.26944639, 0.37824885, 0.5935856 , ..., 0.2957826 , 0.43647415,\n",
       "       0.14069155])"
      ]
     },
     "execution_count": 100,
     "metadata": {},
     "output_type": "execute_result"
    }
   ],
   "source": [
    "acts"
   ]
  },
  {
   "cell_type": "code",
   "execution_count": 101,
   "metadata": {},
   "outputs": [],
   "source": [
    "acts_df = pd.DataFrame(squareform(acts), index = acute_tps['DTXSID'], columns = acute_tps['DTXSID'])"
   ]
  },
  {
   "cell_type": "code",
   "execution_count": 86,
   "metadata": {},
   "outputs": [],
   "source": [
    "acts_mgrn = pdist(pLD50_v1, act_diff)"
   ]
  },
  {
   "cell_type": "code",
   "execution_count": 103,
   "metadata": {},
   "outputs": [],
   "source": [
    "acts_mgrmdf = pd.DataFrame(squareform(acts_mgrn), index = acute_smi['DTXSID'], columns = acute_smi['DTXSID'])"
   ]
  },
  {
   "cell_type": "code",
   "execution_count": 121,
   "metadata": {},
   "outputs": [],
   "source": [
    "sim_mgrndf = pd.DataFrame(squareform(simmgrn), index = acute_smi['DTXSID'], columns = acute_smi['DTXSID'])"
   ]
  },
  {
   "cell_type": "code",
   "execution_count": 122,
   "metadata": {},
   "outputs": [],
   "source": [
    "simidx_mgrndf = 1- sim_mgrndf"
   ]
  },
  {
   "cell_type": "code",
   "execution_count": 341,
   "metadata": {},
   "outputs": [],
   "source": [
    "''''import pickle\n",
    "with open('acts_tps.pkl','wb') as f:\n",
    "    pickle.dump(acts,f)"
   ]
  },
  {
   "cell_type": "code",
   "execution_count": 342,
   "metadata": {},
   "outputs": [],
   "source": [
    "''''import pickle\n",
    "with open('acts_mgrn.pkl','wb') as f:\n",
    "    pickle.dump(acts_mgrn,f)"
   ]
  },
  {
   "cell_type": "code",
   "execution_count": 343,
   "metadata": {},
   "outputs": [],
   "source": [
    "''''import pickle\n",
    "with open('sim_tp.pkl','wb') as f:\n",
    "    pickle.dump(sim_tp,f)"
   ]
  },
  {
   "cell_type": "code",
   "execution_count": 344,
   "metadata": {},
   "outputs": [],
   "source": [
    "''''import pickle\n",
    "with open('mgrn_sim.pkl','wb') as f:\n",
    "    pickle.dump(mgrn_sim,f)"
   ]
  },
  {
   "cell_type": "code",
   "execution_count": 49,
   "metadata": {},
   "outputs": [],
   "source": [
    "#activities = pdist(LD50s, act_diff)"
   ]
  },
  {
   "cell_type": "code",
   "execution_count": 87,
   "metadata": {},
   "outputs": [],
   "source": [
    "sim_distdf = pd.DataFrame(squareform(sim), index = acute_tps['DTXSID'], columns = acute_tps['DTXSID'])"
   ]
  },
  {
   "cell_type": "code",
   "execution_count": 89,
   "metadata": {},
   "outputs": [],
   "source": [
    "simdf = 1-sim_distdf"
   ]
  },
  {
   "cell_type": "code",
   "execution_count": 90,
   "metadata": {},
   "outputs": [
    {
     "data": {
      "text/html": [
       "<div>\n",
       "<style scoped>\n",
       "    .dataframe tbody tr th:only-of-type {\n",
       "        vertical-align: middle;\n",
       "    }\n",
       "\n",
       "    .dataframe tbody tr th {\n",
       "        vertical-align: top;\n",
       "    }\n",
       "\n",
       "    .dataframe thead th {\n",
       "        text-align: right;\n",
       "    }\n",
       "</style>\n",
       "<table border=\"1\" class=\"dataframe\">\n",
       "  <thead>\n",
       "    <tr style=\"text-align: right;\">\n",
       "      <th>DTXSID</th>\n",
       "      <th>DTXSID5020281</th>\n",
       "      <th>DTXSID8020961</th>\n",
       "      <th>DTXSID0021834</th>\n",
       "      <th>DTXSID2044347</th>\n",
       "      <th>DTXSID4025745</th>\n",
       "      <th>DTXSID9059208</th>\n",
       "      <th>DTXSID7026653</th>\n",
       "      <th>DTXSID6026080</th>\n",
       "      <th>DTXSID80870440</th>\n",
       "      <th>DTXSID7026655</th>\n",
       "      <th>...</th>\n",
       "      <th>DTXSID70244252</th>\n",
       "      <th>DTXSID9046998</th>\n",
       "      <th>DTXSID70244257</th>\n",
       "      <th>DTXSID60244281</th>\n",
       "      <th>DTXSID0073245</th>\n",
       "      <th>DTXSID3044752</th>\n",
       "      <th>DTXSID80244288</th>\n",
       "      <th>DTXSID0022143</th>\n",
       "      <th>DTXSID6020303</th>\n",
       "      <th>DTXSID2025395</th>\n",
       "    </tr>\n",
       "    <tr>\n",
       "      <th>DTXSID</th>\n",
       "      <th></th>\n",
       "      <th></th>\n",
       "      <th></th>\n",
       "      <th></th>\n",
       "      <th></th>\n",
       "      <th></th>\n",
       "      <th></th>\n",
       "      <th></th>\n",
       "      <th></th>\n",
       "      <th></th>\n",
       "      <th></th>\n",
       "      <th></th>\n",
       "      <th></th>\n",
       "      <th></th>\n",
       "      <th></th>\n",
       "      <th></th>\n",
       "      <th></th>\n",
       "      <th></th>\n",
       "      <th></th>\n",
       "      <th></th>\n",
       "      <th></th>\n",
       "    </tr>\n",
       "  </thead>\n",
       "  <tbody>\n",
       "    <tr>\n",
       "      <th>DTXSID5020281</th>\n",
       "      <td>1.000000</td>\n",
       "      <td>0.375000</td>\n",
       "      <td>0.375000</td>\n",
       "      <td>0.083333</td>\n",
       "      <td>0.266667</td>\n",
       "      <td>0.500000</td>\n",
       "      <td>0.2500</td>\n",
       "      <td>0.111111</td>\n",
       "      <td>0.333333</td>\n",
       "      <td>0.428571</td>\n",
       "      <td>...</td>\n",
       "      <td>0.300000</td>\n",
       "      <td>0.0</td>\n",
       "      <td>0.000000</td>\n",
       "      <td>0.00</td>\n",
       "      <td>0.0</td>\n",
       "      <td>0.000000</td>\n",
       "      <td>0.0</td>\n",
       "      <td>0.000000</td>\n",
       "      <td>0.071429</td>\n",
       "      <td>0.0</td>\n",
       "    </tr>\n",
       "    <tr>\n",
       "      <th>DTXSID8020961</th>\n",
       "      <td>0.375000</td>\n",
       "      <td>1.000000</td>\n",
       "      <td>0.333333</td>\n",
       "      <td>0.076923</td>\n",
       "      <td>0.176471</td>\n",
       "      <td>0.428571</td>\n",
       "      <td>0.1000</td>\n",
       "      <td>0.100000</td>\n",
       "      <td>0.444444</td>\n",
       "      <td>0.375000</td>\n",
       "      <td>...</td>\n",
       "      <td>0.076923</td>\n",
       "      <td>0.0</td>\n",
       "      <td>0.000000</td>\n",
       "      <td>0.00</td>\n",
       "      <td>0.0</td>\n",
       "      <td>0.000000</td>\n",
       "      <td>0.0</td>\n",
       "      <td>0.000000</td>\n",
       "      <td>0.000000</td>\n",
       "      <td>0.0</td>\n",
       "    </tr>\n",
       "    <tr>\n",
       "      <th>DTXSID0021834</th>\n",
       "      <td>0.375000</td>\n",
       "      <td>0.333333</td>\n",
       "      <td>1.000000</td>\n",
       "      <td>0.076923</td>\n",
       "      <td>0.176471</td>\n",
       "      <td>0.428571</td>\n",
       "      <td>0.1000</td>\n",
       "      <td>0.100000</td>\n",
       "      <td>0.300000</td>\n",
       "      <td>0.375000</td>\n",
       "      <td>...</td>\n",
       "      <td>0.076923</td>\n",
       "      <td>0.0</td>\n",
       "      <td>0.000000</td>\n",
       "      <td>0.00</td>\n",
       "      <td>0.0</td>\n",
       "      <td>0.000000</td>\n",
       "      <td>0.0</td>\n",
       "      <td>0.071429</td>\n",
       "      <td>0.000000</td>\n",
       "      <td>0.0</td>\n",
       "    </tr>\n",
       "    <tr>\n",
       "      <th>DTXSID2044347</th>\n",
       "      <td>0.083333</td>\n",
       "      <td>0.076923</td>\n",
       "      <td>0.076923</td>\n",
       "      <td>1.000000</td>\n",
       "      <td>0.100000</td>\n",
       "      <td>0.200000</td>\n",
       "      <td>0.3000</td>\n",
       "      <td>0.300000</td>\n",
       "      <td>0.153846</td>\n",
       "      <td>0.181818</td>\n",
       "      <td>...</td>\n",
       "      <td>0.066667</td>\n",
       "      <td>0.0</td>\n",
       "      <td>0.055556</td>\n",
       "      <td>0.05</td>\n",
       "      <td>0.0</td>\n",
       "      <td>0.066667</td>\n",
       "      <td>0.0</td>\n",
       "      <td>0.062500</td>\n",
       "      <td>0.000000</td>\n",
       "      <td>0.0</td>\n",
       "    </tr>\n",
       "    <tr>\n",
       "      <th>DTXSID4025745</th>\n",
       "      <td>0.266667</td>\n",
       "      <td>0.176471</td>\n",
       "      <td>0.176471</td>\n",
       "      <td>0.100000</td>\n",
       "      <td>1.000000</td>\n",
       "      <td>0.200000</td>\n",
       "      <td>0.1875</td>\n",
       "      <td>0.117647</td>\n",
       "      <td>0.166667</td>\n",
       "      <td>0.187500</td>\n",
       "      <td>...</td>\n",
       "      <td>0.100000</td>\n",
       "      <td>0.0</td>\n",
       "      <td>0.000000</td>\n",
       "      <td>0.00</td>\n",
       "      <td>0.0</td>\n",
       "      <td>0.000000</td>\n",
       "      <td>0.0</td>\n",
       "      <td>0.000000</td>\n",
       "      <td>0.200000</td>\n",
       "      <td>0.0</td>\n",
       "    </tr>\n",
       "  </tbody>\n",
       "</table>\n",
       "<p>5 rows × 6940 columns</p>\n",
       "</div>"
      ],
      "text/plain": [
       "DTXSID         DTXSID5020281  DTXSID8020961  DTXSID0021834  DTXSID2044347  \\\n",
       "DTXSID                                                                      \n",
       "DTXSID5020281       1.000000       0.375000       0.375000       0.083333   \n",
       "DTXSID8020961       0.375000       1.000000       0.333333       0.076923   \n",
       "DTXSID0021834       0.375000       0.333333       1.000000       0.076923   \n",
       "DTXSID2044347       0.083333       0.076923       0.076923       1.000000   \n",
       "DTXSID4025745       0.266667       0.176471       0.176471       0.100000   \n",
       "\n",
       "DTXSID         DTXSID4025745  DTXSID9059208  DTXSID7026653  DTXSID6026080  \\\n",
       "DTXSID                                                                      \n",
       "DTXSID5020281       0.266667       0.500000         0.2500       0.111111   \n",
       "DTXSID8020961       0.176471       0.428571         0.1000       0.100000   \n",
       "DTXSID0021834       0.176471       0.428571         0.1000       0.100000   \n",
       "DTXSID2044347       0.100000       0.200000         0.3000       0.300000   \n",
       "DTXSID4025745       1.000000       0.200000         0.1875       0.117647   \n",
       "\n",
       "DTXSID         DTXSID80870440  DTXSID7026655      ...        DTXSID70244252  \\\n",
       "DTXSID                                            ...                         \n",
       "DTXSID5020281        0.333333       0.428571      ...              0.300000   \n",
       "DTXSID8020961        0.444444       0.375000      ...              0.076923   \n",
       "DTXSID0021834        0.300000       0.375000      ...              0.076923   \n",
       "DTXSID2044347        0.153846       0.181818      ...              0.066667   \n",
       "DTXSID4025745        0.166667       0.187500      ...              0.100000   \n",
       "\n",
       "DTXSID         DTXSID9046998  DTXSID70244257  DTXSID60244281  DTXSID0073245  \\\n",
       "DTXSID                                                                        \n",
       "DTXSID5020281            0.0        0.000000            0.00            0.0   \n",
       "DTXSID8020961            0.0        0.000000            0.00            0.0   \n",
       "DTXSID0021834            0.0        0.000000            0.00            0.0   \n",
       "DTXSID2044347            0.0        0.055556            0.05            0.0   \n",
       "DTXSID4025745            0.0        0.000000            0.00            0.0   \n",
       "\n",
       "DTXSID         DTXSID3044752  DTXSID80244288  DTXSID0022143  DTXSID6020303  \\\n",
       "DTXSID                                                                       \n",
       "DTXSID5020281       0.000000             0.0       0.000000       0.071429   \n",
       "DTXSID8020961       0.000000             0.0       0.000000       0.000000   \n",
       "DTXSID0021834       0.000000             0.0       0.071429       0.000000   \n",
       "DTXSID2044347       0.066667             0.0       0.062500       0.000000   \n",
       "DTXSID4025745       0.000000             0.0       0.000000       0.200000   \n",
       "\n",
       "DTXSID         DTXSID2025395  \n",
       "DTXSID                        \n",
       "DTXSID5020281            0.0  \n",
       "DTXSID8020961            0.0  \n",
       "DTXSID0021834            0.0  \n",
       "DTXSID2044347            0.0  \n",
       "DTXSID4025745            0.0  \n",
       "\n",
       "[5 rows x 6940 columns]"
      ]
     },
     "execution_count": 90,
     "metadata": {},
     "output_type": "execute_result"
    }
   ],
   "source": [
    "simdf.head()"
   ]
  },
  {
   "cell_type": "code",
   "execution_count": 208,
   "metadata": {},
   "outputs": [
    {
     "data": {
      "text/plain": [
       "Index(['DTXSID5020281', 'DTXSID8020961', 'DTXSID0021834', 'DTXSID2044347',\n",
       "       'DTXSID4025745', 'DTXSID9059208', 'DTXSID7026653', 'DTXSID6026080',\n",
       "       'DTXSID80870440', 'DTXSID7026655',\n",
       "       ...\n",
       "       'DTXSID70244252', 'DTXSID9046998', 'DTXSID70244257', 'DTXSID60244281',\n",
       "       'DTXSID0073245', 'DTXSID3044752', 'DTXSID80244288', 'DTXSID0022143',\n",
       "       'DTXSID6020303', 'DTXSID2025395'],\n",
       "      dtype='object', name='DTXSID', length=6940)"
      ]
     },
     "execution_count": 208,
     "metadata": {},
     "output_type": "execute_result"
    }
   ],
   "source": [
    "simdf.index"
   ]
  },
  {
   "cell_type": "code",
   "execution_count": 105,
   "metadata": {},
   "outputs": [],
   "source": [
    "simdf_dict = {(i,c): simdf.loc[i,c] for i in simdf.index.values for c in simdf.columns.values}"
   ]
  },
  {
   "cell_type": "code",
   "execution_count": 112,
   "metadata": {},
   "outputs": [
    {
     "data": {
      "text/plain": [
       "48163600"
      ]
     },
     "execution_count": 112,
     "metadata": {},
     "output_type": "execute_result"
    }
   ],
   "source": [
    "len(simdf_dict)"
   ]
  },
  {
   "cell_type": "code",
   "execution_count": 114,
   "metadata": {},
   "outputs": [],
   "source": [
    "first_four = {k: simdf_dict[k] for k in list(simdf_dict.keys())[:4]}"
   ]
  },
  {
   "cell_type": "code",
   "execution_count": 120,
   "metadata": {},
   "outputs": [],
   "source": [
    "simdf2 = pd.DataFrame([simdf_dict]).T"
   ]
  },
  {
   "cell_type": "code",
   "execution_count": 110,
   "metadata": {},
   "outputs": [],
   "source": [
    "acts_df_dict = {(i,c): acts_df.loc[i,c] for i in acts_df.index.values for c in acts_df.columns.values}"
   ]
  },
  {
   "cell_type": "code",
   "execution_count": 123,
   "metadata": {},
   "outputs": [],
   "source": [
    "acts_df = pd.DataFrame([acts_df_dict]).T"
   ]
  },
  {
   "cell_type": "code",
   "execution_count": 124,
   "metadata": {},
   "outputs": [],
   "source": [
    "import pickle\n",
    "with open('simdf_dict.pkl','wb') as f:\n",
    "    pickle.dump(simdf_dict,f)"
   ]
  },
  {
   "cell_type": "code",
   "execution_count": 125,
   "metadata": {},
   "outputs": [],
   "source": [
    "import pickle\n",
    "with open('acts_df_dict.pkl','wb') as f:\n",
    "    pickle.dump(acts_df_dict,f)"
   ]
  },
  {
   "cell_type": "code",
   "execution_count": 126,
   "metadata": {},
   "outputs": [],
   "source": [
    " mgrn_dict = {(i,c): simidx_mgrndf.loc[i,c] for i in simidx_mgrndf.index.values for c in simidx_mgrndf.columns.values}"
   ]
  },
  {
   "cell_type": "code",
   "execution_count": 127,
   "metadata": {},
   "outputs": [],
   "source": [
    "mgrndf2 = pd.DataFrame([mgrn_dict]).T"
   ]
  },
  {
   "cell_type": "code",
   "execution_count": 111,
   "metadata": {},
   "outputs": [],
   "source": [
    "acts_mgrmdf_dict = {(i,c): acts_mgrmdf.loc[i,c] for i in acts_mgrmdf.index.values for c in acts_mgrmdf.columns.values}"
   ]
  },
  {
   "cell_type": "code",
   "execution_count": 129,
   "metadata": {},
   "outputs": [],
   "source": [
    "acts_mgrn_df2 = pd.DataFrame([acts_mgrmdf_dict]).T"
   ]
  },
  {
   "cell_type": "code",
   "execution_count": 130,
   "metadata": {},
   "outputs": [],
   "source": [
    "import pickle\n",
    "with open('mgrn_dict.pkl','wb') as f:\n",
    "    pickle.dump(mgrn_dict,f)"
   ]
  },
  {
   "cell_type": "code",
   "execution_count": 131,
   "metadata": {},
   "outputs": [],
   "source": [
    "import pickle\n",
    "with open('acts_mgrmdf_dict.pkl','wb') as f:\n",
    "    pickle.dump(acts_mgrmdf_dict,f)"
   ]
  },
  {
   "cell_type": "code",
   "execution_count": 132,
   "metadata": {},
   "outputs": [],
   "source": [
    "import pickle\n",
    "with open('acts_mgrn_df2.pkl','wb') as f:\n",
    "    pickle.dump(acts_mgrn_df2,f)"
   ]
  },
  {
   "cell_type": "code",
   "execution_count": 134,
   "metadata": {},
   "outputs": [],
   "source": [
    "import pickle\n",
    "with open('mgrn_df2.pkl','wb') as f:\n",
    "    pickle.dump(mgrndf2,f)"
   ]
  },
  {
   "cell_type": "code",
   "execution_count": 135,
   "metadata": {},
   "outputs": [],
   "source": [
    "import pickle\n",
    "with open('simdf2.pkl','wb') as f:\n",
    "    pickle.dump(simdf2 ,f)"
   ]
  },
  {
   "cell_type": "code",
   "execution_count": 136,
   "metadata": {},
   "outputs": [],
   "source": [
    "import pickle\n",
    "with open('acts_df.pkl','wb') as f:\n",
    "    pickle.dump(acts_df,f)"
   ]
  },
  {
   "cell_type": "code",
   "execution_count": 137,
   "metadata": {},
   "outputs": [
    {
     "data": {
      "text/html": [
       "<div>\n",
       "<style scoped>\n",
       "    .dataframe tbody tr th:only-of-type {\n",
       "        vertical-align: middle;\n",
       "    }\n",
       "\n",
       "    .dataframe tbody tr th {\n",
       "        vertical-align: top;\n",
       "    }\n",
       "\n",
       "    .dataframe thead th {\n",
       "        text-align: right;\n",
       "    }\n",
       "</style>\n",
       "<table border=\"1\" class=\"dataframe\">\n",
       "  <thead>\n",
       "    <tr style=\"text-align: right;\">\n",
       "      <th></th>\n",
       "      <th>0</th>\n",
       "    </tr>\n",
       "  </thead>\n",
       "  <tbody>\n",
       "    <tr>\n",
       "      <th>(DTXSID00142939, DTXSID00142939)</th>\n",
       "      <td>0.000000</td>\n",
       "    </tr>\n",
       "    <tr>\n",
       "      <th>(DTXSID00142939, DTXSID00143108)</th>\n",
       "      <td>1.168846</td>\n",
       "    </tr>\n",
       "    <tr>\n",
       "      <th>(DTXSID00142939, DTXSID00143880)</th>\n",
       "      <td>1.351871</td>\n",
       "    </tr>\n",
       "    <tr>\n",
       "      <th>(DTXSID00142939, DTXSID00144796)</th>\n",
       "      <td>1.406354</td>\n",
       "    </tr>\n",
       "    <tr>\n",
       "      <th>(DTXSID00142939, DTXSID00144933)</th>\n",
       "      <td>0.925344</td>\n",
       "    </tr>\n",
       "  </tbody>\n",
       "</table>\n",
       "</div>"
      ],
      "text/plain": [
       "                                         0\n",
       "(DTXSID00142939, DTXSID00142939)  0.000000\n",
       "(DTXSID00142939, DTXSID00143108)  1.168846\n",
       "(DTXSID00142939, DTXSID00143880)  1.351871\n",
       "(DTXSID00142939, DTXSID00144796)  1.406354\n",
       "(DTXSID00142939, DTXSID00144933)  0.925344"
      ]
     },
     "execution_count": 137,
     "metadata": {},
     "output_type": "execute_result"
    }
   ],
   "source": [
    "acts_df.head()"
   ]
  },
  {
   "cell_type": "code",
   "execution_count": 138,
   "metadata": {},
   "outputs": [
    {
     "data": {
      "text/plain": [
       "48163600"
      ]
     },
     "execution_count": 138,
     "metadata": {},
     "output_type": "execute_result"
    }
   ],
   "source": [
    "len(acts_df)\n",
    "len(simdf2)"
   ]
  },
  {
   "cell_type": "code",
   "execution_count": 167,
   "metadata": {},
   "outputs": [],
   "source": [
    "st10 = simdf2[0].head(20).values\n",
    "at10 = acts_df[0].head(20).values"
   ]
  },
  {
   "cell_type": "code",
   "execution_count": 172,
   "metadata": {},
   "outputs": [
    {
     "data": {
      "text/plain": [
       "<matplotlib.collections.PathCollection at 0x7f997010ef98>"
      ]
     },
     "execution_count": 172,
     "metadata": {},
     "output_type": "execute_result"
    },
    {
     "data": {
      "image/png": "[encoded data removed]",
      "text/plain": [
       "<Figure size 648x432 with 1 Axes>"
      ]
     },
     "metadata": {},
     "output_type": "display_data"
    }
   ],
   "source": [
    "plt.figure(figsize = (9,6))\n",
    "plt.style.use(\"default\")\n",
    "plt.title('SAS map')\n",
    "plt.xlabel('Molecular Similarity (ToxPrints)')\n",
    "plt.ylabel('Activity Difference (pLD50s)')\n",
    "plt.scatter(st10, at10)\n",
    "#plt.savefig('SAS_txps.png', dpi = 300)"
   ]
  },
  {
   "cell_type": "code",
   "execution_count": 164,
   "metadata": {},
   "outputs": [],
   "source": [
    "st = simdf2[0].values\n",
    "at = acts_df[0].values"
   ]
  },
  {
   "cell_type": "code",
   "execution_count": 173,
   "metadata": {},
   "outputs": [
    {
     "data": {
      "image/png": "[encoded data removed]",
      "text/plain": [
       "<Figure size 900x600 with 1 Axes>"
      ]
     },
     "metadata": {},
     "output_type": "display_data"
    }
   ],
   "source": [
    "plt.figure(figsize = (9,6))\n",
    "plt.style.use(\"default\")\n",
    "plt.title('SAS map')\n",
    "plt.xlabel('Molecular Similarity (ToxPrints)')\n",
    "plt.ylabel('Activity Difference (pLD50s)')\n",
    "plt.scatter(st, at)\n",
    "plt.savefig('SAS_txps.png', dpi = 300)"
   ]
  },
  {
   "cell_type": "code",
   "execution_count": 153,
   "metadata": {},
   "outputs": [
    {
     "name": "stdout",
     "output_type": "stream",
     "text": [
      "47941776\n",
      "47941776\n"
     ]
    }
   ],
   "source": [
    "print(len(mgrndf2))\n",
    "print(len(acts_mgrn_df2))"
   ]
  },
  {
   "cell_type": "code",
   "execution_count": 166,
   "metadata": {},
   "outputs": [
    {
     "data": {
      "text/plain": [
       "'/share/home3/gpatlewi/python/Unilever/acute'"
      ]
     },
     "execution_count": 166,
     "metadata": {},
     "output_type": "execute_result"
    }
   ],
   "source": [
    "pwd"
   ]
  },
  {
   "cell_type": "code",
   "execution_count": 175,
   "metadata": {},
   "outputs": [
    {
     "data": {
      "image/png": "[encoded data removed]",
      "text/plain": [
       "<Figure size 900x600 with 1 Axes>"
      ]
     },
     "metadata": {},
     "output_type": "display_data"
    }
   ],
   "source": [
    "stm = mgrndf2[0].values\n",
    "atm = acts_mgrn_df2[0].values\n",
    "plt.style.use(\"default\")\n",
    "plt.figure(figsize = (9,6))\n",
    "plt.title('SAS map')\n",
    "plt.xlabel('Molecular Similarity (Morganfps)')\n",
    "plt.ylabel('Activity Difference (pLD50s)')\n",
    "plt.scatter(stm, atm)\n",
    "plt.savefig('SAS_mgrn.png', dpi = 300)"
   ]
  },
  {
   "cell_type": "code",
   "execution_count": 91,
   "metadata": {},
   "outputs": [
    {
     "data": {
      "text/html": [
       "<div>\n",
       "<style scoped>\n",
       "    .dataframe tbody tr th:only-of-type {\n",
       "        vertical-align: middle;\n",
       "    }\n",
       "\n",
       "    .dataframe tbody tr th {\n",
       "        vertical-align: top;\n",
       "    }\n",
       "\n",
       "    .dataframe thead th {\n",
       "        text-align: right;\n",
       "    }\n",
       "</style>\n",
       "<table border=\"1\" class=\"dataframe\">\n",
       "  <thead>\n",
       "    <tr style=\"text-align: right;\">\n",
       "      <th></th>\n",
       "      <th>DTXSID</th>\n",
       "      <th>very_toxic</th>\n",
       "      <th>nontoxic</th>\n",
       "      <th>LD50_mgkg</th>\n",
       "      <th>EPA_category</th>\n",
       "      <th>GHS_category</th>\n",
       "      <th>casrn</th>\n",
       "      <th>mol_weight</th>\n",
       "      <th>LD50_LM</th>\n",
       "      <th>INPUT</th>\n",
       "      <th>...</th>\n",
       "      <th>ring:polycycle_bicyclo_[2.1.1]heptane</th>\n",
       "      <th>ring:polycycle_bicyclo_[3.2.1]octane</th>\n",
       "      <th>ring:polycycle_bicyclo_[3.2.2]nonane</th>\n",
       "      <th>ring:polycycle_bicyclo_[3.3.1]nonane</th>\n",
       "      <th>ring:polycycle_bicyclo_[3.3.2]decane</th>\n",
       "      <th>ring:polycycle_bicyclo_[4.3.1]decane</th>\n",
       "      <th>ring:polycycle_bicyclo_[4.4.1]undecane</th>\n",
       "      <th>ring:polycycle_bicyclo_[5.4.1]dodecane</th>\n",
       "      <th>ring:polycycle_spiro_[4.5]decane</th>\n",
       "      <th>ring:polycycle_tricyclo_adamantane</th>\n",
       "    </tr>\n",
       "  </thead>\n",
       "  <tbody>\n",
       "    <tr>\n",
       "      <th>1</th>\n",
       "      <td>DTXSID8020961</td>\n",
       "      <td>False</td>\n",
       "      <td>False</td>\n",
       "      <td>750.0</td>\n",
       "      <td>3</td>\n",
       "      <td>4</td>\n",
       "      <td>100-01-6</td>\n",
       "      <td>138.126007</td>\n",
       "      <td>-0.734786</td>\n",
       "      <td>DTXSID8020961</td>\n",
       "      <td>...</td>\n",
       "      <td>0</td>\n",
       "      <td>0</td>\n",
       "      <td>0</td>\n",
       "      <td>0</td>\n",
       "      <td>0</td>\n",
       "      <td>0</td>\n",
       "      <td>0</td>\n",
       "      <td>0</td>\n",
       "      <td>0</td>\n",
       "      <td>0</td>\n",
       "    </tr>\n",
       "    <tr>\n",
       "      <th>2</th>\n",
       "      <td>DTXSID0021834</td>\n",
       "      <td>False</td>\n",
       "      <td>False</td>\n",
       "      <td>170.0</td>\n",
       "      <td>2</td>\n",
       "      <td>3</td>\n",
       "      <td>100-02-7</td>\n",
       "      <td>139.110001</td>\n",
       "      <td>-0.087091</td>\n",
       "      <td>DTXSID0021834</td>\n",
       "      <td>...</td>\n",
       "      <td>0</td>\n",
       "      <td>0</td>\n",
       "      <td>0</td>\n",
       "      <td>0</td>\n",
       "      <td>0</td>\n",
       "      <td>0</td>\n",
       "      <td>0</td>\n",
       "      <td>0</td>\n",
       "      <td>0</td>\n",
       "      <td>0</td>\n",
       "    </tr>\n",
       "  </tbody>\n",
       "</table>\n",
       "<p>2 rows × 561 columns</p>\n",
       "</div>"
      ],
      "text/plain": [
       "          DTXSID  very_toxic  nontoxic  LD50_mgkg  EPA_category  GHS_category  \\\n",
       "1  DTXSID8020961       False     False      750.0             3             4   \n",
       "2  DTXSID0021834       False     False      170.0             2             3   \n",
       "\n",
       "      casrn  mol_weight   LD50_LM          INPUT  \\\n",
       "1  100-01-6  138.126007 -0.734786  DTXSID8020961   \n",
       "2  100-02-7  139.110001 -0.087091  DTXSID0021834   \n",
       "\n",
       "                 ...                 ring:polycycle_bicyclo_[2.1.1]heptane  \\\n",
       "1                ...                                                     0   \n",
       "2                ...                                                     0   \n",
       "\n",
       "  ring:polycycle_bicyclo_[3.2.1]octane ring:polycycle_bicyclo_[3.2.2]nonane  \\\n",
       "1                                    0                                    0   \n",
       "2                                    0                                    0   \n",
       "\n",
       "  ring:polycycle_bicyclo_[3.3.1]nonane ring:polycycle_bicyclo_[3.3.2]decane  \\\n",
       "1                                    0                                    0   \n",
       "2                                    0                                    0   \n",
       "\n",
       "  ring:polycycle_bicyclo_[4.3.1]decane ring:polycycle_bicyclo_[4.4.1]undecane  \\\n",
       "1                                    0                                      0   \n",
       "2                                    0                                      0   \n",
       "\n",
       "  ring:polycycle_bicyclo_[5.4.1]dodecane ring:polycycle_spiro_[4.5]decane  \\\n",
       "1                                      0                                0   \n",
       "2                                      0                                0   \n",
       "\n",
       "  ring:polycycle_tricyclo_adamantane  \n",
       "1                                  0  \n",
       "2                                  0  \n",
       "\n",
       "[2 rows x 561 columns]"
      ]
     },
     "execution_count": 91,
     "metadata": {},
     "output_type": "execute_result"
    }
   ],
   "source": [
    "acute_tps[acute_tps['DTXSID'].isin(['DTXSID0021834', 'DTXSID8020961'])]"
   ]
  },
  {
   "cell_type": "code",
   "execution_count": 92,
   "metadata": {},
   "outputs": [
    {
     "data": {
      "text/plain": [
       "0.647695"
      ]
     },
     "execution_count": 92,
     "metadata": {},
     "output_type": "execute_result"
    }
   ],
   "source": [
    "#act_diff(-0.734786,-0.087091)"
   ]
  },
  {
   "cell_type": "code",
   "execution_count": 93,
   "metadata": {},
   "outputs": [
    {
     "data": {
      "text/plain": [
       "(24078330,)"
      ]
     },
     "execution_count": 93,
     "metadata": {},
     "output_type": "execute_result"
    }
   ],
   "source": [
    "#sim.shape"
   ]
  },
  {
   "cell_type": "code",
   "execution_count": 94,
   "metadata": {},
   "outputs": [
    {
     "data": {
      "text/plain": [
       "(6940, 6940)"
      ]
     },
     "execution_count": 94,
     "metadata": {},
     "output_type": "execute_result"
    }
   ],
   "source": [
    "#simdf.shape"
   ]
  },
  {
   "cell_type": "code",
   "execution_count": 95,
   "metadata": {},
   "outputs": [
    {
     "data": {
      "text/plain": [
       "(24078330,)"
      ]
     },
     "execution_count": 95,
     "metadata": {},
     "output_type": "execute_result"
    }
   ],
   "source": [
    "#acts.shape"
   ]
  },
  {
   "cell_type": "code",
   "execution_count": 96,
   "metadata": {},
   "outputs": [
    {
     "data": {
      "text/plain": [
       "0.26944639014"
      ]
     },
     "execution_count": 96,
     "metadata": {},
     "output_type": "execute_result"
    }
   ],
   "source": [
    "#acts[0]"
   ]
  },
  {
   "cell_type": "code",
   "execution_count": 66,
   "metadata": {},
   "outputs": [],
   "source": [
    "#activities.shape"
   ]
  },
  {
   "cell_type": "code",
   "execution_count": 56,
   "metadata": {},
   "outputs": [
    {
     "data": {
      "text/plain": [
       "Text(0,0.5,'Activity Difference (pLD50s)')"
      ]
     },
     "execution_count": 56,
     "metadata": {},
     "output_type": "execute_result"
    },
    {
     "data": {
      "image/png": "[encoded data removed]",
      "text/plain": [
       "<Figure size 648x432 with 1 Axes>"
      ]
     },
     "metadata": {},
     "output_type": "display_data"
    }
   ],
   "source": [
    "#plt.figure(figsize = (9,6))\n",
    "#plt.scatter(sim, acts)\n",
    "#plt.title('SAS map')\n",
    "#plt.xlabel('Molecular Similarity (ToxPrints)')\n",
    "#plt.ylabel('Activity Difference (pLD50s)')"
   ]
  },
  {
   "cell_type": "code",
   "execution_count": null,
   "metadata": {},
   "outputs": [],
   "source": [
    "#g = sns.jointplot(x = sim, y = acts, kind = 'hex', space = 1, color = '#FF9999', gridsize = 5)\n",
    "#g.set_axis_labels('Molecular Similarity', 'Activity diff')"
   ]
  },
  {
   "cell_type": "code",
   "execution_count": null,
   "metadata": {},
   "outputs": [],
   "source": []
  },
  {
   "cell_type": "code",
   "execution_count": 59,
   "metadata": {},
   "outputs": [
    {
     "data": {
      "text/plain": [
       "DescribeResult(nobs=24078330, minmax=(0.0, 7.37278428354), mean=0.9562791500561749, variance=0.6392612081856541, skewness=1.3364665019106368, kurtosis=2.0310581624098045)"
      ]
     },
     "execution_count": 59,
     "metadata": {},
     "output_type": "execute_result"
    }
   ],
   "source": [
    "from scipy import stats\n",
    "stats.describe(acts)"
   ]
  },
  {
   "cell_type": "code",
   "execution_count": 316,
   "metadata": {},
   "outputs": [
    {
     "data": {
      "text/plain": [
       "<matplotlib.lines.Line2D at 0x7efceaaa5828>"
      ]
     },
     "execution_count": 316,
     "metadata": {},
     "output_type": "execute_result"
    },
    {
     "data": {
      "image/png": "[encoded data removed]",
      "text/plain": [
       "<Figure size 648x432 with 1 Axes>"
      ]
     },
     "metadata": {},
     "output_type": "display_data"
    }
   ],
   "source": [
    "#plt.figure(figsize = (9,6))\n",
    "#plt.scatter(sim_tp, acts)\n",
    "#plt.title('SAS map')\n",
    "#plt.xlabel('Molecular Similarity (ToxPrints)')\n",
    "#plt.ylabel('Activity Difference (pLD50s)')\n",
    "#plt.plot([0.5,0.5],[0,7], 'k-', lw = 2)\n",
    "#plt.axhline(y = 4, color = 'k', lw = 2)"
   ]
  },
  {
   "cell_type": "code",
   "execution_count": 314,
   "metadata": {},
   "outputs": [
    {
     "data": {
      "text/plain": [
       "<matplotlib.lines.Line2D at 0x7efceaa7e400>"
      ]
     },
     "execution_count": 314,
     "metadata": {},
     "output_type": "execute_result"
    },
    {
     "data": {
      "image/png": "[encoded data removed]",
      "text/plain": [
       "<Figure size 648x432 with 1 Axes>"
      ]
     },
     "metadata": {},
     "output_type": "display_data"
    }
   ],
   "source": [
    "#plt.figure(figsize = (9,6))\n",
    "#plt.scatter(mgrn_sim, acts_mgrn)\n",
    "#plt.title('SAS map')\n",
    "#plt.xlabel('Molecular Similarity (MorganFP)')\n",
    "#plt.ylabel('Activity Difference (pLD50s)')\n",
    "#plt.plot([0.5,0.5],[0,7], 'k-', lw = 2)\n",
    "#plt.axhline(y = 4, color = 'k', lw = 2)"
   ]
  },
  {
   "cell_type": "code",
   "execution_count": 103,
   "metadata": {},
   "outputs": [],
   "source": [
    "#actdiff = pd.Series(acts)"
   ]
  },
  {
   "cell_type": "code",
   "execution_count": 104,
   "metadata": {},
   "outputs": [],
   "source": [
    "#simseries = pd.Series(sim)"
   ]
  },
  {
   "cell_type": "code",
   "execution_count": 107,
   "metadata": {},
   "outputs": [],
   "source": [
    "#merged = pd.concat([actdiff,simseries],axis = 1)"
   ]
  },
  {
   "cell_type": "code",
   "execution_count": 242,
   "metadata": {},
   "outputs": [],
   "source": [
    "#from itertools import combinations"
   ]
  },
  {
   "cell_type": "code",
   "execution_count": 243,
   "metadata": {},
   "outputs": [],
   "source": [
    "#s = pd.Series(distance.pdist(X, 'correlation'), index = pd.MultiIndex.from_tuples(tuple(combinations(X.index,2))))"
   ]
  },
  {
   "cell_type": "code",
   "execution_count": 248,
   "metadata": {},
   "outputs": [],
   "source": [
    "#s2 = pd.Series(acts, index = pd.MultiIndex.from_tuples(tuple(combinations(actsf.index,2))))"
   ]
  },
  {
   "cell_type": "code",
   "execution_count": 251,
   "metadata": {},
   "outputs": [],
   "source": [
    "#s2df = s2.to_frame()"
   ]
  },
  {
   "cell_type": "code",
   "execution_count": 266,
   "metadata": {},
   "outputs": [],
   "source": [
    "#s3 = s2df.reset_index()\n",
    "#merged3 = merged2.reset_index()\n",
    "#finaldf = pd.concat([s3,merged3],axis = 1)"
   ]
  },
  {
   "cell_type": "code",
   "execution_count": 269,
   "metadata": {},
   "outputs": [
    {
     "data": {
      "text/html": [
       "<div>\n",
       "<style scoped>\n",
       "    .dataframe tbody tr th:only-of-type {\n",
       "        vertical-align: middle;\n",
       "    }\n",
       "\n",
       "    .dataframe tbody tr th {\n",
       "        vertical-align: top;\n",
       "    }\n",
       "\n",
       "    .dataframe thead th {\n",
       "        text-align: right;\n",
       "    }\n",
       "</style>\n",
       "<table border=\"1\" class=\"dataframe\">\n",
       "  <thead>\n",
       "    <tr style=\"text-align: right;\">\n",
       "      <th></th>\n",
       "      <th>level_0</th>\n",
       "      <th>level_1</th>\n",
       "      <th>0</th>\n",
       "      <th>index</th>\n",
       "      <th>0</th>\n",
       "      <th>1</th>\n",
       "      <th>0</th>\n",
       "    </tr>\n",
       "  </thead>\n",
       "  <tbody>\n",
       "    <tr>\n",
       "      <th>0</th>\n",
       "      <td>DTXSID5020281</td>\n",
       "      <td>DTXSID8020961</td>\n",
       "      <td>0.269446</td>\n",
       "      <td>0</td>\n",
       "      <td>0.269446</td>\n",
       "      <td>0.625000</td>\n",
       "      <td>(0, 1.0)</td>\n",
       "    </tr>\n",
       "    <tr>\n",
       "      <th>1</th>\n",
       "      <td>DTXSID5020281</td>\n",
       "      <td>DTXSID0021834</td>\n",
       "      <td>0.378249</td>\n",
       "      <td>1</td>\n",
       "      <td>0.378249</td>\n",
       "      <td>0.625000</td>\n",
       "      <td>(0, 2.0)</td>\n",
       "    </tr>\n",
       "    <tr>\n",
       "      <th>2</th>\n",
       "      <td>DTXSID5020281</td>\n",
       "      <td>DTXSID2044347</td>\n",
       "      <td>0.593586</td>\n",
       "      <td>2</td>\n",
       "      <td>0.593586</td>\n",
       "      <td>0.916667</td>\n",
       "      <td>(0, 3.0)</td>\n",
       "    </tr>\n",
       "    <tr>\n",
       "      <th>3</th>\n",
       "      <td>DTXSID5020281</td>\n",
       "      <td>DTXSID4025745</td>\n",
       "      <td>0.557632</td>\n",
       "      <td>3</td>\n",
       "      <td>0.557632</td>\n",
       "      <td>0.733333</td>\n",
       "      <td>(0, 4.0)</td>\n",
       "    </tr>\n",
       "    <tr>\n",
       "      <th>4</th>\n",
       "      <td>DTXSID5020281</td>\n",
       "      <td>DTXSID9059208</td>\n",
       "      <td>0.711308</td>\n",
       "      <td>4</td>\n",
       "      <td>0.711308</td>\n",
       "      <td>0.500000</td>\n",
       "      <td>(0, 5.0)</td>\n",
       "    </tr>\n",
       "  </tbody>\n",
       "</table>\n",
       "</div>"
      ],
      "text/plain": [
       "         level_0        level_1         0  index         0         1         0\n",
       "0  DTXSID5020281  DTXSID8020961  0.269446      0  0.269446  0.625000  (0, 1.0)\n",
       "1  DTXSID5020281  DTXSID0021834  0.378249      1  0.378249  0.625000  (0, 2.0)\n",
       "2  DTXSID5020281  DTXSID2044347  0.593586      2  0.593586  0.916667  (0, 3.0)\n",
       "3  DTXSID5020281  DTXSID4025745  0.557632      3  0.557632  0.733333  (0, 4.0)\n",
       "4  DTXSID5020281  DTXSID9059208  0.711308      4  0.711308  0.500000  (0, 5.0)"
      ]
     },
     "execution_count": 269,
     "metadata": {},
     "output_type": "execute_result"
    }
   ],
   "source": [
    "#finaldf.head()"
   ]
  },
  {
   "cell_type": "code",
   "execution_count": 273,
   "metadata": {},
   "outputs": [],
   "source": [
    "#finaldf[(finaldf.iloc[:,2] > 4) & (finaldf.iloc[:,5] >0.5)]"
   ]
  },
  {
   "cell_type": "code",
   "execution_count": 275,
   "metadata": {},
   "outputs": [],
   "source": [
    "#finaldf[(finaldf.iloc[:,2] > 7) & (finaldf.iloc[:,5] >0.9)].to_csv('act_cliffs.csv')"
   ]
  },
  {
   "cell_type": "code",
   "execution_count": 324,
   "metadata": {},
   "outputs": [],
   "source": [
    "#finaldf[(finaldf.iloc[:,2] > 4) & (finaldf.iloc[:,5] < 0.4)].to_csv('act_cliffs1.csv')"
   ]
  },
  {
   "cell_type": "code",
   "execution_count": 325,
   "metadata": {},
   "outputs": [],
   "source": [
    "#act_cliffs2 = pd.read_csv('act_cliffs1.csv')"
   ]
  },
  {
   "cell_type": "code",
   "execution_count": 279,
   "metadata": {},
   "outputs": [],
   "source": [
    "#act_cliffs = pd.read_csv('act_cliffs.csv')"
   ]
  },
  {
   "cell_type": "code",
   "execution_count": 318,
   "metadata": {},
   "outputs": [],
   "source": [
    "#mgrn_actcliffs = pd.Series(acts_mgrn, index = pd.MultiIndex.from_tuples(tuple(combinations(mrn_sim_df.index,2))))\n",
    "#simmgrnseries = pd.Series(mgrn_sim)\n",
    "#mgrn_actcliffs = mgrn_actcliffs.reset_index()\n",
    "#simmgrnseries = simmgrnseries.reset_index()\n",
    "#finalmorgan = pd.concat([mgrn_actcliffs,simmgrnseries],axis = 1)"
   ]
  },
  {
   "cell_type": "code",
   "execution_count": 331,
   "metadata": {},
   "outputs": [],
   "source": [
    "#finalmorgan[(finalmorgan.iloc[:,2] > 4) & (finalmorgan.iloc[:,4] > 0.8)].to_csv('morgan_act_cliffs.csv')"
   ]
  },
  {
   "cell_type": "code",
   "execution_count": 336,
   "metadata": {},
   "outputs": [
    {
     "data": {
      "text/plain": [
       "0.005611783259495617"
      ]
     },
     "execution_count": 336,
     "metadata": {},
     "output_type": "execute_result"
    }
   ],
   "source": [
    "#len(finalmorgan[(finalmorgan.iloc[:,2] > 4) & (finalmorgan.iloc[:,4] > 0.5)])/len(finalmorgan)*100"
   ]
  },
  {
   "cell_type": "code",
   "execution_count": 334,
   "metadata": {},
   "outputs": [
    {
     "data": {
      "text/plain": [
       "23967426"
      ]
     },
     "execution_count": 334,
     "metadata": {},
     "output_type": "execute_result"
    }
   ],
   "source": [
    "#len(finalmorgan)"
   ]
  },
  {
   "cell_type": "code",
   "execution_count": 337,
   "metadata": {},
   "outputs": [
    {
     "data": {
      "text/plain": [
       "0.00019104314958720144"
      ]
     },
     "execution_count": 337,
     "metadata": {},
     "output_type": "execute_result"
    }
   ],
   "source": [
    "#len(finaldf[(finaldf.iloc[:,2] > 4) & (finaldf.iloc[:,5] < 0.5)])/len(finaldf)*100"
   ]
  },
  {
   "cell_type": "code",
   "execution_count": 338,
   "metadata": {},
   "outputs": [
    {
     "data": {
      "text/plain": [
       "46"
      ]
     },
     "execution_count": 338,
     "metadata": {},
     "output_type": "execute_result"
    }
   ],
   "source": [
    "#len(finaldf[(finaldf.iloc[:,2] > 4) & (finaldf.iloc[:,5] < 0.5)])"
   ]
  },
  {
   "cell_type": "code",
   "execution_count": 176,
   "metadata": {},
   "outputs": [
    {
     "data": {
      "text/html": [
       "<div>\n",
       "<style scoped>\n",
       "    .dataframe tbody tr th:only-of-type {\n",
       "        vertical-align: middle;\n",
       "    }\n",
       "\n",
       "    .dataframe tbody tr th {\n",
       "        vertical-align: top;\n",
       "    }\n",
       "\n",
       "    .dataframe thead th {\n",
       "        text-align: right;\n",
       "    }\n",
       "</style>\n",
       "<table border=\"1\" class=\"dataframe\">\n",
       "  <thead>\n",
       "    <tr style=\"text-align: right;\">\n",
       "      <th></th>\n",
       "      <th>0</th>\n",
       "    </tr>\n",
       "  </thead>\n",
       "  <tbody>\n",
       "    <tr>\n",
       "      <th>(DTXSID00142939, DTXSID00142939)</th>\n",
       "      <td>1.000000</td>\n",
       "    </tr>\n",
       "    <tr>\n",
       "      <th>(DTXSID00142939, DTXSID00143108)</th>\n",
       "      <td>0.142857</td>\n",
       "    </tr>\n",
       "    <tr>\n",
       "      <th>(DTXSID00142939, DTXSID00143880)</th>\n",
       "      <td>0.000000</td>\n",
       "    </tr>\n",
       "    <tr>\n",
       "      <th>(DTXSID00142939, DTXSID00144796)</th>\n",
       "      <td>0.000000</td>\n",
       "    </tr>\n",
       "    <tr>\n",
       "      <th>(DTXSID00142939, DTXSID00144933)</th>\n",
       "      <td>0.000000</td>\n",
       "    </tr>\n",
       "  </tbody>\n",
       "</table>\n",
       "</div>"
      ],
      "text/plain": [
       "                                         0\n",
       "(DTXSID00142939, DTXSID00142939)  1.000000\n",
       "(DTXSID00142939, DTXSID00143108)  0.142857\n",
       "(DTXSID00142939, DTXSID00143880)  0.000000\n",
       "(DTXSID00142939, DTXSID00144796)  0.000000\n",
       "(DTXSID00142939, DTXSID00144933)  0.000000"
      ]
     },
     "execution_count": 176,
     "metadata": {},
     "output_type": "execute_result"
    }
   ],
   "source": [
    "simdf2.head()"
   ]
  },
  {
   "cell_type": "code",
   "execution_count": 177,
   "metadata": {},
   "outputs": [
    {
     "data": {
      "text/html": [
       "<div>\n",
       "<style scoped>\n",
       "    .dataframe tbody tr th:only-of-type {\n",
       "        vertical-align: middle;\n",
       "    }\n",
       "\n",
       "    .dataframe tbody tr th {\n",
       "        vertical-align: top;\n",
       "    }\n",
       "\n",
       "    .dataframe thead th {\n",
       "        text-align: right;\n",
       "    }\n",
       "</style>\n",
       "<table border=\"1\" class=\"dataframe\">\n",
       "  <thead>\n",
       "    <tr style=\"text-align: right;\">\n",
       "      <th></th>\n",
       "      <th>0</th>\n",
       "    </tr>\n",
       "  </thead>\n",
       "  <tbody>\n",
       "    <tr>\n",
       "      <th>(DTXSID00142939, DTXSID00142939)</th>\n",
       "      <td>0.000000</td>\n",
       "    </tr>\n",
       "    <tr>\n",
       "      <th>(DTXSID00142939, DTXSID00143108)</th>\n",
       "      <td>1.168846</td>\n",
       "    </tr>\n",
       "    <tr>\n",
       "      <th>(DTXSID00142939, DTXSID00143880)</th>\n",
       "      <td>1.351871</td>\n",
       "    </tr>\n",
       "    <tr>\n",
       "      <th>(DTXSID00142939, DTXSID00144796)</th>\n",
       "      <td>1.406354</td>\n",
       "    </tr>\n",
       "    <tr>\n",
       "      <th>(DTXSID00142939, DTXSID00144933)</th>\n",
       "      <td>0.925344</td>\n",
       "    </tr>\n",
       "  </tbody>\n",
       "</table>\n",
       "</div>"
      ],
      "text/plain": [
       "                                         0\n",
       "(DTXSID00142939, DTXSID00142939)  0.000000\n",
       "(DTXSID00142939, DTXSID00143108)  1.168846\n",
       "(DTXSID00142939, DTXSID00143880)  1.351871\n",
       "(DTXSID00142939, DTXSID00144796)  1.406354\n",
       "(DTXSID00142939, DTXSID00144933)  0.925344"
      ]
     },
     "execution_count": 177,
     "metadata": {},
     "output_type": "execute_result"
    }
   ],
   "source": [
    "acts_df.head()"
   ]
  },
  {
   "cell_type": "code",
   "execution_count": 178,
   "metadata": {},
   "outputs": [],
   "source": [
    "txps_sas = pd.concat([simdf2, acts_df], axis =1)"
   ]
  },
  {
   "cell_type": "code",
   "execution_count": 209,
   "metadata": {},
   "outputs": [
    {
     "data": {
      "text/plain": [
       "48163600"
      ]
     },
     "execution_count": 209,
     "metadata": {},
     "output_type": "execute_result"
    }
   ],
   "source": [
    "len(txps_sas)"
   ]
  },
  {
   "cell_type": "code",
   "execution_count": 202,
   "metadata": {},
   "outputs": [],
   "source": [
    "txps_sas[(txps_sas.iloc[:,0] > 0.8) & (txps_sas.iloc[:,1] > 2)].to_csv('txps_act_cliffs_040719.csv')"
   ]
  },
  {
   "cell_type": "code",
   "execution_count": 199,
   "metadata": {},
   "outputs": [
    {
     "data": {
      "text/plain": [
       "0.00033635359483095116"
      ]
     },
     "execution_count": 199,
     "metadata": {},
     "output_type": "execute_result"
    }
   ],
   "source": [
    "(len(txps_sas[(txps_sas.iloc[:,0] > 0.8) & (txps_sas.iloc[:,1] > 2)])/len(txps_sas))*100"
   ]
  },
  {
   "cell_type": "code",
   "execution_count": 189,
   "metadata": {},
   "outputs": [],
   "source": [
    "morgan_sas = pd.concat([mgrndf2,acts_mgrn_df2 ], axis = 1)\n"
   ]
  },
  {
   "cell_type": "code",
   "execution_count": 210,
   "metadata": {},
   "outputs": [
    {
     "data": {
      "text/plain": [
       "47941776"
      ]
     },
     "execution_count": 210,
     "metadata": {},
     "output_type": "execute_result"
    }
   ],
   "source": [
    "len(morgan_sas)"
   ]
  },
  {
   "cell_type": "code",
   "execution_count": 190,
   "metadata": {},
   "outputs": [
    {
     "data": {
      "text/html": [
       "<div>\n",
       "<style scoped>\n",
       "    .dataframe tbody tr th:only-of-type {\n",
       "        vertical-align: middle;\n",
       "    }\n",
       "\n",
       "    .dataframe tbody tr th {\n",
       "        vertical-align: top;\n",
       "    }\n",
       "\n",
       "    .dataframe thead th {\n",
       "        text-align: right;\n",
       "    }\n",
       "</style>\n",
       "<table border=\"1\" class=\"dataframe\">\n",
       "  <thead>\n",
       "    <tr style=\"text-align: right;\">\n",
       "      <th></th>\n",
       "      <th>0</th>\n",
       "      <th>0</th>\n",
       "    </tr>\n",
       "  </thead>\n",
       "  <tbody>\n",
       "    <tr>\n",
       "      <th>(DTXSID00142939, DTXSID00142939)</th>\n",
       "      <td>1.000000</td>\n",
       "      <td>0.000000</td>\n",
       "    </tr>\n",
       "    <tr>\n",
       "      <th>(DTXSID00142939, DTXSID00143108)</th>\n",
       "      <td>0.384615</td>\n",
       "      <td>1.168846</td>\n",
       "    </tr>\n",
       "    <tr>\n",
       "      <th>(DTXSID00142939, DTXSID00143880)</th>\n",
       "      <td>0.147059</td>\n",
       "      <td>1.351871</td>\n",
       "    </tr>\n",
       "    <tr>\n",
       "      <th>(DTXSID00142939, DTXSID00144796)</th>\n",
       "      <td>0.203704</td>\n",
       "      <td>1.406354</td>\n",
       "    </tr>\n",
       "    <tr>\n",
       "      <th>(DTXSID00142939, DTXSID00144933)</th>\n",
       "      <td>0.200000</td>\n",
       "      <td>0.925344</td>\n",
       "    </tr>\n",
       "  </tbody>\n",
       "</table>\n",
       "</div>"
      ],
      "text/plain": [
       "                                         0         0\n",
       "(DTXSID00142939, DTXSID00142939)  1.000000  0.000000\n",
       "(DTXSID00142939, DTXSID00143108)  0.384615  1.168846\n",
       "(DTXSID00142939, DTXSID00143880)  0.147059  1.351871\n",
       "(DTXSID00142939, DTXSID00144796)  0.203704  1.406354\n",
       "(DTXSID00142939, DTXSID00144933)  0.200000  0.925344"
      ]
     },
     "execution_count": 190,
     "metadata": {},
     "output_type": "execute_result"
    }
   ],
   "source": [
    "morgan_sas.head()"
   ]
  },
  {
   "cell_type": "code",
   "execution_count": 193,
   "metadata": {},
   "outputs": [],
   "source": [
    "morgan_sas[(morgan_sas.iloc[:,0] > 0.8) & (morgan_sas.iloc[:,1] > 2)].to_csv('morgan_act_cliffs_040719.csv')"
   ]
  },
  {
   "cell_type": "code",
   "execution_count": 201,
   "metadata": {},
   "outputs": [
    {
     "data": {
      "text/plain": [
       "0.0015518824333917041"
      ]
     },
     "execution_count": 201,
     "metadata": {},
     "output_type": "execute_result"
    }
   ],
   "source": [
    "(len(morgan_sas[(morgan_sas.iloc[:,0] > 0.8) & (morgan_sas.iloc[:,1] > 2)])/len(morgan_sas))*100"
   ]
  },
  {
   "cell_type": "code",
   "execution_count": 217,
   "metadata": {},
   "outputs": [],
   "source": [
    "morgan_actcliffs = morgan_sas[(morgan_sas.iloc[:,0] > 0.8) & (morgan_sas.iloc[:,1] > 2)]"
   ]
  },
  {
   "cell_type": "code",
   "execution_count": 227,
   "metadata": {},
   "outputs": [],
   "source": [
    "morgan_actcliffs.columns = ['Pairwise_Similarity', 'Activity_difference']"
   ]
  },
  {
   "cell_type": "code",
   "execution_count": 228,
   "metadata": {},
   "outputs": [
    {
     "data": {
      "text/html": [
       "<div>\n",
       "<style scoped>\n",
       "    .dataframe tbody tr th:only-of-type {\n",
       "        vertical-align: middle;\n",
       "    }\n",
       "\n",
       "    .dataframe tbody tr th {\n",
       "        vertical-align: top;\n",
       "    }\n",
       "\n",
       "    .dataframe thead th {\n",
       "        text-align: right;\n",
       "    }\n",
       "</style>\n",
       "<table border=\"1\" class=\"dataframe\">\n",
       "  <thead>\n",
       "    <tr style=\"text-align: right;\">\n",
       "      <th></th>\n",
       "      <th>Pairwise_Similarity</th>\n",
       "      <th>Activity_difference</th>\n",
       "    </tr>\n",
       "  </thead>\n",
       "  <tbody>\n",
       "    <tr>\n",
       "      <th>(DTXSID00155408, DTXSID40176591)</th>\n",
       "      <td>1.000000</td>\n",
       "      <td>2.002897</td>\n",
       "    </tr>\n",
       "    <tr>\n",
       "      <th>(DTXSID00162132, DTXSID40161482)</th>\n",
       "      <td>0.825000</td>\n",
       "      <td>2.566658</td>\n",
       "    </tr>\n",
       "    <tr>\n",
       "      <th>(DTXSID00168235, DTXSID4021218)</th>\n",
       "      <td>0.806452</td>\n",
       "      <td>2.352674</td>\n",
       "    </tr>\n",
       "    <tr>\n",
       "      <th>(DTXSID00178137, DTXSID30237685)</th>\n",
       "      <td>0.931034</td>\n",
       "      <td>3.038757</td>\n",
       "    </tr>\n",
       "    <tr>\n",
       "      <th>(DTXSID00185129, DTXSID30177936)</th>\n",
       "      <td>0.857143</td>\n",
       "      <td>2.298584</td>\n",
       "    </tr>\n",
       "  </tbody>\n",
       "</table>\n",
       "</div>"
      ],
      "text/plain": [
       "                                  Pairwise_Similarity  Activity_difference\n",
       "(DTXSID00155408, DTXSID40176591)             1.000000             2.002897\n",
       "(DTXSID00162132, DTXSID40161482)             0.825000             2.566658\n",
       "(DTXSID00168235, DTXSID4021218)              0.806452             2.352674\n",
       "(DTXSID00178137, DTXSID30237685)             0.931034             3.038757\n",
       "(DTXSID00185129, DTXSID30177936)             0.857143             2.298584"
      ]
     },
     "execution_count": 228,
     "metadata": {},
     "output_type": "execute_result"
    }
   ],
   "source": [
    "morgan_actcliffs.head()"
   ]
  },
  {
   "cell_type": "code",
   "execution_count": 231,
   "metadata": {},
   "outputs": [
    {
     "name": "stderr",
     "output_type": "stream",
     "text": [
      "/home/gpatlewi/anaconda3/envs/my-mordred/lib/python3.6/site-packages/pandas/core/frame.py:3140: SettingWithCopyWarning: \n",
      "A value is trying to be set on a copy of a slice from a DataFrame.\n",
      "Try using .loc[row_indexer,col_indexer] = value instead\n",
      "\n",
      "See the caveats in the documentation: http://pandas.pydata.org/pandas-docs/stable/indexing.html#indexing-view-versus-copy\n",
      "  self[k1] = value[k2]\n"
     ]
    }
   ],
   "source": [
    "morgan_actcliffs[['Chemical_X', 'Chemical_Y']] = pd.DataFrame(morgan_actcliffs.index.tolist(), index = morgan_actcliffs.index)"
   ]
  },
  {
   "cell_type": "code",
   "execution_count": 233,
   "metadata": {},
   "outputs": [
    {
     "name": "stderr",
     "output_type": "stream",
     "text": [
      "/home/gpatlewi/anaconda3/envs/my-mordred/lib/python3.6/site-packages/ipykernel_launcher.py:4: SettingWithCopyWarning: \n",
      "A value is trying to be set on a copy of a slice from a DataFrame.\n",
      "Try using .loc[row_indexer,col_indexer] = value instead\n",
      "\n",
      "See the caveats in the documentation: http://pandas.pydata.org/pandas-docs/stable/indexing.html#indexing-view-versus-copy\n",
      "  after removing the cwd from sys.path.\n",
      "/home/gpatlewi/anaconda3/envs/my-mordred/lib/python3.6/site-packages/ipykernel_launcher.py:5: SettingWithCopyWarning: \n",
      "A value is trying to be set on a copy of a slice from a DataFrame.\n",
      "Try using .loc[row_indexer,col_indexer] = value instead\n",
      "\n",
      "See the caveats in the documentation: http://pandas.pydata.org/pandas-docs/stable/indexing.html#indexing-view-versus-copy\n",
      "  \"\"\"\n"
     ]
    }
   ],
   "source": [
    "\n",
    "\n",
    "decimals = 2    \n",
    "morgan_actcliffs['Pairwise_Similarity'] = morgan_actcliffs['Pairwise_Similarity'].apply(lambda x: round(x, decimals))\n",
    "morgan_actcliffs['Activity_difference'] = morgan_actcliffs['Activity_difference'].apply(lambda x: round(x, decimals))"
   ]
  },
  {
   "cell_type": "code",
   "execution_count": 235,
   "metadata": {},
   "outputs": [],
   "source": [
    "morgan_actcliffs.to_csv('morgan_sas_040719.csv')"
   ]
  },
  {
   "cell_type": "code",
   "execution_count": 237,
   "metadata": {},
   "outputs": [],
   "source": [
    "txps_actcliffs = txps_sas[(txps_sas.iloc[:,0] > 0.8) & (txps_sas.iloc[:,1] > 2)]"
   ]
  },
  {
   "cell_type": "code",
   "execution_count": 238,
   "metadata": {},
   "outputs": [],
   "source": [
    "txps_actcliffs.columns = ['Pairwise_Similarity', 'Activity_difference']"
   ]
  },
  {
   "cell_type": "code",
   "execution_count": 239,
   "metadata": {},
   "outputs": [
    {
     "name": "stderr",
     "output_type": "stream",
     "text": [
      "/home/gpatlewi/anaconda3/envs/my-mordred/lib/python3.6/site-packages/pandas/core/frame.py:3140: SettingWithCopyWarning: \n",
      "A value is trying to be set on a copy of a slice from a DataFrame.\n",
      "Try using .loc[row_indexer,col_indexer] = value instead\n",
      "\n",
      "See the caveats in the documentation: http://pandas.pydata.org/pandas-docs/stable/indexing.html#indexing-view-versus-copy\n",
      "  self[k1] = value[k2]\n"
     ]
    }
   ],
   "source": [
    "txps_actcliffs[['Chemical_X', 'Chemical_Y']] = pd.DataFrame(txps_actcliffs.index.tolist(), index = txps_actcliffs.index)"
   ]
  },
  {
   "cell_type": "code",
   "execution_count": 240,
   "metadata": {},
   "outputs": [
    {
     "name": "stderr",
     "output_type": "stream",
     "text": [
      "/home/gpatlewi/anaconda3/envs/my-mordred/lib/python3.6/site-packages/ipykernel_launcher.py:2: SettingWithCopyWarning: \n",
      "A value is trying to be set on a copy of a slice from a DataFrame.\n",
      "Try using .loc[row_indexer,col_indexer] = value instead\n",
      "\n",
      "See the caveats in the documentation: http://pandas.pydata.org/pandas-docs/stable/indexing.html#indexing-view-versus-copy\n",
      "  \n",
      "/home/gpatlewi/anaconda3/envs/my-mordred/lib/python3.6/site-packages/ipykernel_launcher.py:3: SettingWithCopyWarning: \n",
      "A value is trying to be set on a copy of a slice from a DataFrame.\n",
      "Try using .loc[row_indexer,col_indexer] = value instead\n",
      "\n",
      "See the caveats in the documentation: http://pandas.pydata.org/pandas-docs/stable/indexing.html#indexing-view-versus-copy\n",
      "  This is separate from the ipykernel package so we can avoid doing imports until\n"
     ]
    }
   ],
   "source": [
    "decimals = 2    \n",
    "txps_actcliffs['Pairwise_Similarity'] = txps_actcliffs['Pairwise_Similarity'].apply(lambda x: round(x, decimals))\n",
    "txps_actcliffs['Activity_difference'] = txps_actcliffs['Activity_difference'].apply(lambda x: round(x, decimals))"
   ]
  },
  {
   "cell_type": "code",
   "execution_count": 242,
   "metadata": {},
   "outputs": [],
   "source": [
    "txps_actcliffs.to_csv('txps_sas_041719.csv')"
   ]
  },
  {
   "cell_type": "code",
   "execution_count": 245,
   "metadata": {},
   "outputs": [
    {
     "data": {
      "text/html": [
       "<div>\n",
       "<style scoped>\n",
       "    .dataframe tbody tr th:only-of-type {\n",
       "        vertical-align: middle;\n",
       "    }\n",
       "\n",
       "    .dataframe tbody tr th {\n",
       "        vertical-align: top;\n",
       "    }\n",
       "\n",
       "    .dataframe thead th {\n",
       "        text-align: right;\n",
       "    }\n",
       "</style>\n",
       "<table border=\"1\" class=\"dataframe\">\n",
       "  <thead>\n",
       "    <tr style=\"text-align: right;\">\n",
       "      <th></th>\n",
       "      <th>DTXSID</th>\n",
       "      <th>very_toxic</th>\n",
       "      <th>nontoxic</th>\n",
       "      <th>LD50_mgkg</th>\n",
       "      <th>EPA_category</th>\n",
       "      <th>GHS_category</th>\n",
       "      <th>casrn</th>\n",
       "      <th>mol_weight</th>\n",
       "      <th>LD50_LM</th>\n",
       "      <th>INPUT</th>\n",
       "      <th>...</th>\n",
       "      <th>ring:polycycle_bicyclo_[2.1.1]heptane</th>\n",
       "      <th>ring:polycycle_bicyclo_[3.2.1]octane</th>\n",
       "      <th>ring:polycycle_bicyclo_[3.2.2]nonane</th>\n",
       "      <th>ring:polycycle_bicyclo_[3.3.1]nonane</th>\n",
       "      <th>ring:polycycle_bicyclo_[3.3.2]decane</th>\n",
       "      <th>ring:polycycle_bicyclo_[4.3.1]decane</th>\n",
       "      <th>ring:polycycle_bicyclo_[4.4.1]undecane</th>\n",
       "      <th>ring:polycycle_bicyclo_[5.4.1]dodecane</th>\n",
       "      <th>ring:polycycle_spiro_[4.5]decane</th>\n",
       "      <th>ring:polycycle_tricyclo_adamantane</th>\n",
       "    </tr>\n",
       "  </thead>\n",
       "  <tbody>\n",
       "    <tr>\n",
       "      <th>2284</th>\n",
       "      <td>DTXSID40176591</td>\n",
       "      <td>False</td>\n",
       "      <td>False</td>\n",
       "      <td>1285.0</td>\n",
       "      <td>3</td>\n",
       "      <td>4</td>\n",
       "      <td>2209-86-1</td>\n",
       "      <td>173.029999</td>\n",
       "      <td>-0.870782</td>\n",
       "      <td>DTXSID40176591</td>\n",
       "      <td>...</td>\n",
       "      <td>0</td>\n",
       "      <td>0</td>\n",
       "      <td>0</td>\n",
       "      <td>0</td>\n",
       "      <td>0</td>\n",
       "      <td>0</td>\n",
       "      <td>0</td>\n",
       "      <td>0</td>\n",
       "      <td>0</td>\n",
       "      <td>0</td>\n",
       "    </tr>\n",
       "  </tbody>\n",
       "</table>\n",
       "<p>1 rows × 561 columns</p>\n",
       "</div>"
      ],
      "text/plain": [
       "              DTXSID  very_toxic  nontoxic  LD50_mgkg  EPA_category  \\\n",
       "2284  DTXSID40176591       False     False     1285.0             3   \n",
       "\n",
       "      GHS_category      casrn  mol_weight   LD50_LM           INPUT  \\\n",
       "2284             4  2209-86-1  173.029999 -0.870782  DTXSID40176591   \n",
       "\n",
       "                    ...                 ring:polycycle_bicyclo_[2.1.1]heptane  \\\n",
       "2284                ...                                                     0   \n",
       "\n",
       "     ring:polycycle_bicyclo_[3.2.1]octane  \\\n",
       "2284                                    0   \n",
       "\n",
       "     ring:polycycle_bicyclo_[3.2.2]nonane  \\\n",
       "2284                                    0   \n",
       "\n",
       "     ring:polycycle_bicyclo_[3.3.1]nonane  \\\n",
       "2284                                    0   \n",
       "\n",
       "     ring:polycycle_bicyclo_[3.3.2]decane  \\\n",
       "2284                                    0   \n",
       "\n",
       "     ring:polycycle_bicyclo_[4.3.1]decane  \\\n",
       "2284                                    0   \n",
       "\n",
       "     ring:polycycle_bicyclo_[4.4.1]undecane  \\\n",
       "2284                                      0   \n",
       "\n",
       "     ring:polycycle_bicyclo_[5.4.1]dodecane ring:polycycle_spiro_[4.5]decane  \\\n",
       "2284                                      0                                0   \n",
       "\n",
       "     ring:polycycle_tricyclo_adamantane  \n",
       "2284                                  0  \n",
       "\n",
       "[1 rows x 561 columns]"
      ]
     },
     "execution_count": 245,
     "metadata": {},
     "output_type": "execute_result"
    }
   ],
   "source": [
    "acute_tps[acute_tps['DTXSID'].isin(['DTXSID0015540', 'DTXSID40176591'])]"
   ]
  },
  {
   "cell_type": "code",
   "execution_count": 248,
   "metadata": {},
   "outputs": [
    {
     "data": {
      "text/html": [
       "<div>\n",
       "<style scoped>\n",
       "    .dataframe tbody tr th:only-of-type {\n",
       "        vertical-align: middle;\n",
       "    }\n",
       "\n",
       "    .dataframe tbody tr th {\n",
       "        vertical-align: top;\n",
       "    }\n",
       "\n",
       "    .dataframe thead th {\n",
       "        text-align: right;\n",
       "    }\n",
       "</style>\n",
       "<table border=\"1\" class=\"dataframe\">\n",
       "  <thead>\n",
       "    <tr style=\"text-align: right;\">\n",
       "      <th></th>\n",
       "      <th>DTXSID</th>\n",
       "      <th>very_toxic</th>\n",
       "      <th>nontoxic</th>\n",
       "      <th>LD50_mgkg</th>\n",
       "      <th>EPA_category</th>\n",
       "      <th>GHS_category</th>\n",
       "      <th>casrn</th>\n",
       "      <th>mol_weight</th>\n",
       "      <th>LD50_LM</th>\n",
       "      <th>INPUT_x</th>\n",
       "      <th>...</th>\n",
       "      <th>ring:polycycle_bicyclo_[4.3.1]decane</th>\n",
       "      <th>ring:polycycle_bicyclo_[4.4.1]undecane</th>\n",
       "      <th>ring:polycycle_bicyclo_[5.4.1]dodecane</th>\n",
       "      <th>ring:polycycle_spiro_[4.5]decane</th>\n",
       "      <th>ring:polycycle_tricyclo_adamantane</th>\n",
       "      <th>INPUT_y</th>\n",
       "      <th>FOUND_BY</th>\n",
       "      <th>PREFERRED_NAME_y</th>\n",
       "      <th>SMILES</th>\n",
       "      <th>QSAR_READY_SMILES</th>\n",
       "    </tr>\n",
       "  </thead>\n",
       "  <tbody>\n",
       "    <tr>\n",
       "      <th>4059</th>\n",
       "      <td>DTXSID10199353</td>\n",
       "      <td>True</td>\n",
       "      <td>False</td>\n",
       "      <td>2.5</td>\n",
       "      <td>1</td>\n",
       "      <td>1</td>\n",
       "      <td>51356-06-0</td>\n",
       "      <td>294.320007</td>\n",
       "      <td>2.070880</td>\n",
       "      <td>DTXSID10199353</td>\n",
       "      <td>...</td>\n",
       "      <td>0</td>\n",
       "      <td>0</td>\n",
       "      <td>0</td>\n",
       "      <td>0</td>\n",
       "      <td>0</td>\n",
       "      <td>DTXSID10199353</td>\n",
       "      <td>DSSTox_Substance_Id</td>\n",
       "      <td>Phosphorodithioic acid, O,O-diethyl ester, S-e...</td>\n",
       "      <td>CCOP(=S)(OCC)SCN1N=CC=CC1=O</td>\n",
       "      <td>CCOP(=S)(OCC)SCN1N=CC=CC1=O</td>\n",
       "    </tr>\n",
       "    <tr>\n",
       "      <th>4068</th>\n",
       "      <td>DTXSID00199362</td>\n",
       "      <td>False</td>\n",
       "      <td>False</td>\n",
       "      <td>555.0</td>\n",
       "      <td>3</td>\n",
       "      <td>4</td>\n",
       "      <td>51356-15-1</td>\n",
       "      <td>370.420013</td>\n",
       "      <td>-0.175599</td>\n",
       "      <td>DTXSID00199362</td>\n",
       "      <td>...</td>\n",
       "      <td>0</td>\n",
       "      <td>0</td>\n",
       "      <td>0</td>\n",
       "      <td>0</td>\n",
       "      <td>0</td>\n",
       "      <td>DTXSID00199362</td>\n",
       "      <td>DSSTox_Substance_Id</td>\n",
       "      <td>Phosphorodithioic acid, O,O-diethyl ester, S-e...</td>\n",
       "      <td>CCOP(=S)(OCC)SCN1N=C(C=CC1=O)C1=CC=CC=C1</td>\n",
       "      <td>CCOP(=S)(OCC)SCN1N=C(C=CC1=O)C1=CC=CC=C1</td>\n",
       "    </tr>\n",
       "  </tbody>\n",
       "</table>\n",
       "<p>2 rows × 566 columns</p>\n",
       "</div>"
      ],
      "text/plain": [
       "              DTXSID  very_toxic  nontoxic  LD50_mgkg  EPA_category  \\\n",
       "4059  DTXSID10199353        True     False        2.5             1   \n",
       "4068  DTXSID00199362       False     False      555.0             3   \n",
       "\n",
       "      GHS_category       casrn  mol_weight   LD50_LM         INPUT_x  \\\n",
       "4059             1  51356-06-0  294.320007  2.070880  DTXSID10199353   \n",
       "4068             4  51356-15-1  370.420013 -0.175599  DTXSID00199362   \n",
       "\n",
       "                        ...                     \\\n",
       "4059                    ...                      \n",
       "4068                    ...                      \n",
       "\n",
       "     ring:polycycle_bicyclo_[4.3.1]decane  \\\n",
       "4059                                    0   \n",
       "4068                                    0   \n",
       "\n",
       "     ring:polycycle_bicyclo_[4.4.1]undecane  \\\n",
       "4059                                      0   \n",
       "4068                                      0   \n",
       "\n",
       "     ring:polycycle_bicyclo_[5.4.1]dodecane ring:polycycle_spiro_[4.5]decane  \\\n",
       "4059                                      0                                0   \n",
       "4068                                      0                                0   \n",
       "\n",
       "     ring:polycycle_tricyclo_adamantane         INPUT_y             FOUND_BY  \\\n",
       "4059                                  0  DTXSID10199353  DSSTox_Substance_Id   \n",
       "4068                                  0  DTXSID00199362  DSSTox_Substance_Id   \n",
       "\n",
       "                                       PREFERRED_NAME_y  \\\n",
       "4059  Phosphorodithioic acid, O,O-diethyl ester, S-e...   \n",
       "4068  Phosphorodithioic acid, O,O-diethyl ester, S-e...   \n",
       "\n",
       "                                        SMILES  \\\n",
       "4059               CCOP(=S)(OCC)SCN1N=CC=CC1=O   \n",
       "4068  CCOP(=S)(OCC)SCN1N=C(C=CC1=O)C1=CC=CC=C1   \n",
       "\n",
       "                             QSAR_READY_SMILES  \n",
       "4059               CCOP(=S)(OCC)SCN1N=CC=CC1=O  \n",
       "4068  CCOP(=S)(OCC)SCN1N=C(C=CC1=O)C1=CC=CC=C1  \n",
       "\n",
       "[2 rows x 566 columns]"
      ]
     },
     "execution_count": 248,
     "metadata": {},
     "output_type": "execute_result"
    }
   ],
   "source": [
    "acute_smi[acute_smi['DTXSID'].isin(['DTXSID00199362', 'DTXSID10199353'])]"
   ]
  },
  {
   "cell_type": "code",
   "execution_count": null,
   "metadata": {},
   "outputs": [],
   "source": []
  },
  {
   "cell_type": "code",
   "execution_count": null,
   "metadata": {},
   "outputs": [],
   "source": []
  },
  {
   "cell_type": "code",
   "execution_count": null,
   "metadata": {},
   "outputs": [],
   "source": []
  },
  {
   "cell_type": "code",
   "execution_count": null,
   "metadata": {},
   "outputs": [],
   "source": []
  },
  {
   "cell_type": "code",
   "execution_count": null,
   "metadata": {},
   "outputs": [],
   "source": []
  },
  {
   "cell_type": "code",
   "execution_count": null,
   "metadata": {},
   "outputs": [],
   "source": []
  },
  {
   "cell_type": "code",
   "execution_count": null,
   "metadata": {},
   "outputs": [],
   "source": []
  }
 ],
 "metadata": {
  "kernelspec": {
   "display_name": "Python 3",
   "language": "python",
   "name": "python3"
  },
  "language_info": {
   "codemirror_mode": {
    "name": "ipython",
    "version": 3
   },
   "file_extension": ".py",
   "mimetype": "text/x-python",
   "name": "python",
   "nbconvert_exporter": "python",
   "pygments_lexer": "ipython3",
   "version": "3.6.5"
  }
 },
 "nbformat": 4,
 "nbformat_minor": 4
}
